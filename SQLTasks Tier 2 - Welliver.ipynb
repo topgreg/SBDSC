{
 "cells": [
  {
   "cell_type": "markdown",
   "id": "f603dff3",
   "metadata": {},
   "source": [
    "/* Q1: Some of the facilities charge a fee to members, but some do not. Write a SQL query to produce a list of the names of the facilities that do. */\n",
    "\n",
    "SELECT name, membercost\n",
    "FROM Facilities\n",
    "WHERE membercost != 0\n"
   ]
  },
  {
   "cell_type": "markdown",
   "id": "2fafa075",
   "metadata": {},
   "source": [
    "#/* Q2: How many facilities do not charge a fee to members? */\n",
    "\n",
    "SELECT count(membercost)\n",
    "FROM Facilities\n",
    "WHERE membercost != 0\n",
    "\n"
   ]
  },
  {
   "cell_type": "markdown",
   "id": "5faae30b",
   "metadata": {},
   "source": [
    "/* Q3: Write an SQL query to show a list of facilities that charge a fee to members,\n",
    "where the fee is less than 20% of the facility's monthly maintenance cost.\n",
    "Return the facid, facility name, member cost, and monthly maintenance of the\n",
    "facilities in question. */\n",
    "\n",
    "SELECT facid, name, membercost, monthlymaintenance\n",
    "FROM Facilities\n",
    "WHERE membercost != 0 AND membercost < (.2 * monthlymaintenance)"
   ]
  },
  {
   "cell_type": "markdown",
   "id": "84b2d037",
   "metadata": {},
   "source": []
  },
  {
   "cell_type": "markdown",
   "id": "3fe47c6d",
   "metadata": {},
   "source": [
    "/* Q4: Write an SQL query to retrieve the details of facilities with ID 1 and 5.\n",
    "Try writing the query without using the OR operator. */\n",
    "\n",
    "\n",
    "SELECT *\n",
    "FROM Facilities\n",
    "WHERE facid in (1, 5)\n"
   ]
  },
  {
   "cell_type": "markdown",
   "id": "77e69269",
   "metadata": {},
   "source": [
    "/* Q5: Produce a list of facilities, with each labelled as\n",
    "'cheap' or 'expensive', depending on if their monthly maintenance cost is\n",
    "more than $100. Return the name and monthly maintenance of the facilities\n",
    "in question. */\n",
    "\n",
    "SELECT name, monthlymaintenance,\n",
    "CASE\n",
    "WHEN monthlymaintenance > 100 THEN 'Expensive'\n",
    "WHEN monthlymaintenance <= 100 THEN 'Cheap'\n",
    "ELSE 'hi'\n",
    "END AS label\n",
    "FROM Facilities\n",
    "\n",
    "\n"
   ]
  },
  {
   "cell_type": "markdown",
   "id": "ec4c947b",
   "metadata": {},
   "source": [
    "/* Q6: You'd like to get the first and last name of the last member(s)\n",
    "who signed up. Try not to use the LIMIT clause for your solution. */\n",
    "\n",
    "SELECT firstname, surname, joindate\n",
    "FROM Members\n",
    "WHERE joindate IN\n",
    "(SELECT max(joindate)\n",
    "FROM Members)"
   ]
  },
  {
   "cell_type": "markdown",
   "id": "9325035c",
   "metadata": {},
   "source": [
    "/* Q7: Produce a list of all members who have used a tennis court.\n",
    "Include in your output the name of the court, and the name of the member\n",
    "formatted as a single column. Ensure no duplicate data, and order by\n",
    "the member name. */\n",
    "\n",
    "SELECT DISTINCT(CONCAT(Members.firstname, \" \", Members.surname)) AS membername, Facilities.name\n",
    "FROM Members\n",
    "INNER JOIN Bookings\n",
    "ON Members.memid = Bookings.memid\n",
    "INNER JOIN Facilities\n",
    "ON Bookings.facid = Facilities.facid\n",
    "WHERE Bookings.facid in (0, 1)\n",
    "ORDER BY membername\n"
   ]
  },
  {
   "cell_type": "markdown",
   "id": "b9d60d66",
   "metadata": {},
   "source": [
    "/* Q8: Produce a list of bookings on the day of 2012-09-14 which\n",
    "will cost the member (or guest) more than $30. Remember that guests have\n",
    "different costs to members (the listed costs are per half-hour 'slot'), and\n",
    "the guest user's ID is always 0. Include in your output the name of the\n",
    "facility, the name of the member formatted as a single column, and the cost.\n",
    "Order by descending cost, and do not use any subqueries. */\n",
    "\n",
    "\n",
    "Solution:\n",
    "SELECT Facilities.name, CONCAT(Members.firstname, \" \", Members.surname) AS membername,\n",
    "CASE\n",
    "WHEN Bookings.memid > 0 then guestcost\n",
    "ELSE membercost\n",
    "END AS booking_cost\n",
    "FROM Bookings\n",
    "INNER JOIN\n",
    "Facilities ON Bookings.facid = Facilities.facid\n",
    "INNER JOIN\n",
    "Members ON Members.memid = Bookings.memid\n",
    "WHERE Bookings.starttime LIKE '2012-09-14%'\n",
    "ORDER BY booking_cost DESC\n",
    "\n",
    "Note: this isn't entirely correct. I have not shown only the bookings that are greater than $30.  Couldn't figure out how to do this\n",
    "\n",
    "when I try to modify the WHERE statement to say the below, I get a #1054 - Unknown column 'booking_cost' in \"where clause'\n",
    "\n"
   ]
  },
  {
   "cell_type": "markdown",
   "id": "ac5cdc57",
   "metadata": {},
   "source": [
    "/* Q9: This time, produce the same result as in Q8, but using a subquery. */\n",
    "\n",
    "SELECT Facilities.name, CONCAT(Members.firstname, \" \", Members.surname) AS membername, booking_cost\n",
    "FROM Bookings\n",
    "INNER JOIN\n",
    "Facilities ON Bookings.facid = Facilities.facid\n",
    "INNER JOIN\n",
    "Members ON Members.memid = Bookings.memid\n",
    "WHERE Bookings.bookid IN (SELECT Bookings.bookid,\n",
    "CASE\n",
    "WHEN Bookings.memid > 0 then guestcost\n",
    "ELSE membercost\n",
    "END AS booking_cost\n",
    "FROM Bookings\n",
    "INNER JOIN\n",
    "Facilities ON Bookings.facid = Facilities.facid\n",
    "WHERE Bookings.starttime LIKE '2012-09-14%')\n",
    "\n",
    "Note: this is also not completely correct, for the same reason as above (unable to use the booking_cost column that I create)"
   ]
  },
  {
   "cell_type": "code",
   "execution_count": null,
   "id": "e0f26298",
   "metadata": {},
   "outputs": [],
   "source": []
  },
  {
   "cell_type": "code",
   "execution_count": null,
   "id": "02d03f19",
   "metadata": {},
   "outputs": [],
   "source": []
  },
  {
   "cell_type": "markdown",
   "id": "783041ed",
   "metadata": {},
   "source": [
    "/* PART 2: SQLite\n",
    "\n",
    "Export the country club data from PHPMyAdmin, and connect to a local SQLite instance from Jupyter notebook \n",
    "for the following questions.  "
   ]
  },
  {
   "cell_type": "markdown",
   "id": "64efb8b8",
   "metadata": {},
   "source": [
    "/* Q10: Produce a list of facilities with a total revenue less than 1000.\n",
    "The output of facility name and total revenue, sorted by revenue. Remember\n",
    "that there's a different cost for guests and members! */\n"
   ]
  },
  {
   "cell_type": "markdown",
   "id": "9e628fae",
   "metadata": {},
   "source": [
    "/* Q11: Produce a report of members and who recommended them in alphabetic surname,firstname order */\n"
   ]
  },
  {
   "cell_type": "markdown",
   "id": "17ec0038",
   "metadata": {},
   "source": [
    "/* Q12: Find the facilities with their usage by member, but not guests */\n"
   ]
  },
  {
   "cell_type": "markdown",
   "id": "a890adf3",
   "metadata": {},
   "source": [
    "/* Q13: Find the facilities usage by month, but not guests */\n"
   ]
  },
  {
   "cell_type": "markdown",
   "id": "a6c362f3",
   "metadata": {},
   "source": []
  },
  {
   "cell_type": "markdown",
   "id": "b2898b65",
   "metadata": {},
   "source": []
  }
 ],
 "metadata": {
  "kernelspec": {
   "display_name": "Python 3 (ipykernel)",
   "language": "python",
   "name": "python3"
  },
  "language_info": {
   "codemirror_mode": {
    "name": "ipython",
    "version": 3
   },
   "file_extension": ".py",
   "mimetype": "text/x-python",
   "name": "python",
   "nbconvert_exporter": "python",
   "pygments_lexer": "ipython3",
   "version": "3.9.12"
  }
 },
 "nbformat": 4,
 "nbformat_minor": 5
}
