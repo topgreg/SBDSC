{
 "cells": [
  {
   "cell_type": "markdown",
   "id": "9e008529",
   "metadata": {},
   "source": [
    "# Starbucks Nutrition Information\n",
    "Greg Welliver"
   ]
  },
  {
   "cell_type": "code",
   "execution_count": 1,
   "id": "ba529c28",
   "metadata": {},
   "outputs": [],
   "source": [
    "# Import relevant libraries and packages.\n",
    "import numpy as np \n",
    "import pandas as pd \n",
    "import matplotlib.pyplot as plt\n",
    "from matplotlib import rc\n",
    "import matplotlib.ticker as plticker\n",
    "import seaborn as sns\n",
    "sns.set()\n",
    "import statsmodels.api as sm\n",
    "from statsmodels.graphics.api import abline_plot\n",
    "from sklearn.metrics import mean_squared_error, r2_score\n",
    "from sklearn.model_selection import train_test_split\n",
    "from sklearn import linear_model, preprocessing \n",
    "import warnings\n",
    "from scipy import stats\n"
   ]
  },
  {
   "cell_type": "code",
   "execution_count": 2,
   "id": "a3c0b936",
   "metadata": {},
   "outputs": [],
   "source": [
    "# load the dataframe\n",
    "# df_exp = pd.read_csv(\"starbucks_drinkMenu_expanded.csv\", index_col=[0])\n",
    "df = pd.read_csv(\"starbucks_drinkMenu_expanded2.csv\")"
   ]
  },
  {
   "cell_type": "code",
   "execution_count": 3,
   "id": "4a0ca895",
   "metadata": {},
   "outputs": [
    {
     "data": {
      "text/plain": [
       "(242, 18)"
      ]
     },
     "execution_count": 3,
     "metadata": {},
     "output_type": "execute_result"
    }
   ],
   "source": [
    "df.shape"
   ]
  },
  {
   "cell_type": "code",
   "execution_count": 4,
   "id": "a020cb03",
   "metadata": {},
   "outputs": [
    {
     "name": "stdout",
     "output_type": "stream",
     "text": [
      "<class 'pandas.core.frame.DataFrame'>\n",
      "RangeIndex: 242 entries, 0 to 241\n",
      "Data columns (total 18 columns):\n",
      " #   Column                   Non-Null Count  Dtype  \n",
      "---  ------                   --------------  -----  \n",
      " 0   Beverage_category        242 non-null    object \n",
      " 1   Beverage                 242 non-null    object \n",
      " 2   Beverage_prep            242 non-null    object \n",
      " 3   Calories                 242 non-null    int64  \n",
      " 4   Total Fat (g)            242 non-null    object \n",
      " 5   Trans Fat (g)            242 non-null    float64\n",
      " 6   Saturated Fat (g)        242 non-null    float64\n",
      " 7   Sodium (mg)              242 non-null    int64  \n",
      " 8   Total Carbohydrates (g)  242 non-null    int64  \n",
      " 9   Cholesterol (mg)         242 non-null    int64  \n",
      " 10  Dietary Fibre (g)        242 non-null    int64  \n",
      " 11  Sugars (g)               242 non-null    int64  \n",
      " 12  Protein (g)              242 non-null    float64\n",
      " 13  Vitamin A (% DV)         242 non-null    object \n",
      " 14  Vitamin C (% DV)         242 non-null    object \n",
      " 15  Calcium (% DV)           242 non-null    object \n",
      " 16  Iron (% DV)              242 non-null    object \n",
      " 17  Caffeine (mg)            241 non-null    object \n",
      "dtypes: float64(3), int64(6), object(9)\n",
      "memory usage: 34.2+ KB\n"
     ]
    }
   ],
   "source": [
    "df.info()"
   ]
  },
  {
   "cell_type": "code",
   "execution_count": 21,
   "id": "c89b5814",
   "metadata": {},
   "outputs": [
    {
     "data": {
      "text/plain": [
       "Beverage_category           9\n",
       "Beverage                   33\n",
       "Beverage_prep              13\n",
       "Calories                   48\n",
       "Total Fat (g)              23\n",
       "Trans Fat (g)              18\n",
       "Saturated Fat (g)           4\n",
       "Sodium (mg)                 9\n",
       "Total Carbohydrates (g)    51\n",
       "Cholesterol (mg)           75\n",
       "Dietary Fibre (g)           8\n",
       "Sugars (g)                 70\n",
       "Protein (g)                26\n",
       "Vitamin A (% DV)           11\n",
       "Vitamin C (% DV)           10\n",
       "Calcium (% DV)             14\n",
       "Iron (% DV)                13\n",
       "Caffeine (mg)              34\n",
       "dtype: int64"
      ]
     },
     "execution_count": 21,
     "metadata": {},
     "output_type": "execute_result"
    }
   ],
   "source": [
    "df.nunique()"
   ]
  },
  {
   "cell_type": "code",
   "execution_count": 5,
   "id": "b7335946",
   "metadata": {},
   "outputs": [
    {
     "data": {
      "text/plain": [
       "10%    43\n",
       "6%     37\n",
       "4%     37\n",
       "15%    36\n",
       "0%     27\n",
       "8%     23\n",
       "20%    18\n",
       "25%    11\n",
       "2%      5\n",
       "50%     3\n",
       "30%     2\n",
       "Name: Vitamin A (% DV), dtype: int64"
      ]
     },
     "execution_count": 5,
     "metadata": {},
     "output_type": "execute_result"
    }
   ],
   "source": [
    "df['Vitamin A (% DV)'].value_counts()"
   ]
  },
  {
   "cell_type": "code",
   "execution_count": 6,
   "id": "8d33710a",
   "metadata": {},
   "outputs": [],
   "source": [
    "df['Vitamin A (% DV)'] = list(map(lambda x: x[:-1], df['Vitamin A (% DV)'].values))\n",
    "df['Vitamin C (% DV)'] = list(map(lambda x: x[:-1], df['Vitamin C (% DV)'].values))\n",
    "df['Calcium (% DV)'] = list(map(lambda x: x[:-1], df['Calcium (% DV)'].values))\n",
    "df['Iron (% DV)'] = list(map(lambda x: x[:-1], df['Iron (% DV)'].values))\n"
   ]
  },
  {
   "cell_type": "code",
   "execution_count": null,
   "id": "a5136dc7",
   "metadata": {},
   "outputs": [],
   "source": []
  },
  {
   "cell_type": "code",
   "execution_count": 7,
   "id": "3baec09a",
   "metadata": {
    "scrolled": true
   },
   "outputs": [
    {
     "data": {
      "text/plain": [
       "10    43\n",
       "6     37\n",
       "4     37\n",
       "15    36\n",
       "0     27\n",
       "8     23\n",
       "20    18\n",
       "25    11\n",
       "2      5\n",
       "50     3\n",
       "30     2\n",
       "Name: Vitamin A (% DV), dtype: int64"
      ]
     },
     "execution_count": 7,
     "metadata": {},
     "output_type": "execute_result"
    }
   ],
   "source": [
    "df['Vitamin A (% DV)'].value_counts()"
   ]
  },
  {
   "cell_type": "code",
   "execution_count": 8,
   "id": "59b11ba1",
   "metadata": {},
   "outputs": [],
   "source": [
    "df = df[df['Total Fat (g)'] != '3 2']"
   ]
  },
  {
   "cell_type": "code",
   "execution_count": 9,
   "id": "83fd90b5",
   "metadata": {},
   "outputs": [
    {
     "data": {
      "text/plain": [
       "75        37\n",
       "150       34\n",
       "0         34\n",
       "70        14\n",
       "varies    12\n",
       "95        11\n",
       "Varies    10\n",
       "110        9\n",
       "130        7\n",
       "25         6\n",
       "120        6\n",
       "90         4\n",
       "175        4\n",
       "20         3\n",
       "125        3\n",
       "10         3\n",
       "145        3\n",
       "50         3\n",
       "100        3\n",
       "140        3\n",
       "55         3\n",
       "80         3\n",
       "180        3\n",
       "85         3\n",
       "30         3\n",
       "15         3\n",
       "170        3\n",
       "165        2\n",
       "410        1\n",
       "235        1\n",
       "330        1\n",
       "225        1\n",
       "260        1\n",
       "300        1\n",
       "65         1\n",
       "105        1\n",
       "Name: Caffeine (mg), dtype: int64"
      ]
     },
     "execution_count": 9,
     "metadata": {},
     "output_type": "execute_result"
    }
   ],
   "source": [
    "#Caffeine (mg)\n",
    "df['Caffeine (mg)'].value_counts()\n"
   ]
  },
  {
   "cell_type": "code",
   "execution_count": 10,
   "id": "4c95ac95",
   "metadata": {},
   "outputs": [],
   "source": [
    "df = df.replace({'Caffeine (mg)' : {'varies' : 'NaN', 'Varies' : 'Nan'}})\n"
   ]
  },
  {
   "cell_type": "code",
   "execution_count": 11,
   "id": "126ed8c4",
   "metadata": {},
   "outputs": [
    {
     "data": {
      "text/plain": [
       "0.1    34\n",
       "0      21\n",
       "1.5    16\n",
       "3      15\n",
       "5      15\n",
       "0.2    14\n",
       "4      14\n",
       "1      13\n",
       "2.5    13\n",
       "6      13\n",
       "3.5    12\n",
       "2      10\n",
       "7      10\n",
       "4.5     9\n",
       "9       6\n",
       "8       6\n",
       "0.3     6\n",
       "0.5     4\n",
       "11      3\n",
       "10      3\n",
       "0.4     2\n",
       "15      1\n",
       "13      1\n",
       "Name: Total Fat (g), dtype: int64"
      ]
     },
     "execution_count": 11,
     "metadata": {},
     "output_type": "execute_result"
    }
   ],
   "source": [
    "df['Total Fat (g)'].value_counts()"
   ]
  },
  {
   "cell_type": "code",
   "execution_count": 12,
   "id": "7fc8365a",
   "metadata": {},
   "outputs": [],
   "source": [
    "df['Total Fat (g)'] = df['Total Fat (g)'].astype(float)"
   ]
  },
  {
   "cell_type": "code",
   "execution_count": 13,
   "id": "bcfcd44d",
   "metadata": {},
   "outputs": [
    {
     "name": "stdout",
     "output_type": "stream",
     "text": [
      "<class 'pandas.core.frame.DataFrame'>\n",
      "Int64Index: 241 entries, 0 to 241\n",
      "Data columns (total 18 columns):\n",
      " #   Column                   Non-Null Count  Dtype  \n",
      "---  ------                   --------------  -----  \n",
      " 0   Beverage_category        241 non-null    object \n",
      " 1   Beverage                 241 non-null    object \n",
      " 2   Beverage_prep            241 non-null    object \n",
      " 3   Calories                 241 non-null    int64  \n",
      " 4   Total Fat (g)            241 non-null    float64\n",
      " 5   Trans Fat (g)            241 non-null    float64\n",
      " 6   Saturated Fat (g)        241 non-null    float64\n",
      " 7   Sodium (mg)              241 non-null    int64  \n",
      " 8   Total Carbohydrates (g)  241 non-null    int64  \n",
      " 9   Cholesterol (mg)         241 non-null    int64  \n",
      " 10  Dietary Fibre (g)        241 non-null    int64  \n",
      " 11  Sugars (g)               241 non-null    int64  \n",
      " 12  Protein (g)              241 non-null    float64\n",
      " 13  Vitamin A (% DV)         241 non-null    object \n",
      " 14  Vitamin C (% DV)         241 non-null    object \n",
      " 15  Calcium (% DV)           241 non-null    object \n",
      " 16  Iron (% DV)              241 non-null    object \n",
      " 17  Caffeine (mg)            240 non-null    object \n",
      "dtypes: float64(4), int64(6), object(8)\n",
      "memory usage: 35.8+ KB\n"
     ]
    }
   ],
   "source": [
    "df.info()"
   ]
  },
  {
   "cell_type": "code",
   "execution_count": 14,
   "id": "596ef095",
   "metadata": {},
   "outputs": [],
   "source": [
    "df[\"Vitamin A (% DV)\"] = df[\"Vitamin A (% DV)\"].astype(int)\n",
    "df[\"Vitamin C (% DV)\"] = df[\"Vitamin C (% DV)\"].astype(int)\n",
    "df[\"Calcium (% DV)\"] = df[\"Calcium (% DV)\"].astype(int)\n",
    "df[\"Iron (% DV)\"] = df[\"Iron (% DV)\"].astype(float)\n",
    "df[\"Caffeine (mg)\"] = df[\"Caffeine (mg)\"].astype(float)"
   ]
  },
  {
   "cell_type": "code",
   "execution_count": 15,
   "id": "de25ce42",
   "metadata": {},
   "outputs": [
    {
     "name": "stdout",
     "output_type": "stream",
     "text": [
      "<class 'pandas.core.frame.DataFrame'>\n",
      "Int64Index: 241 entries, 0 to 241\n",
      "Data columns (total 18 columns):\n",
      " #   Column                   Non-Null Count  Dtype  \n",
      "---  ------                   --------------  -----  \n",
      " 0   Beverage_category        241 non-null    object \n",
      " 1   Beverage                 241 non-null    object \n",
      " 2   Beverage_prep            241 non-null    object \n",
      " 3   Calories                 241 non-null    int64  \n",
      " 4   Total Fat (g)            241 non-null    float64\n",
      " 5   Trans Fat (g)            241 non-null    float64\n",
      " 6   Saturated Fat (g)        241 non-null    float64\n",
      " 7   Sodium (mg)              241 non-null    int64  \n",
      " 8   Total Carbohydrates (g)  241 non-null    int64  \n",
      " 9   Cholesterol (mg)         241 non-null    int64  \n",
      " 10  Dietary Fibre (g)        241 non-null    int64  \n",
      " 11  Sugars (g)               241 non-null    int64  \n",
      " 12  Protein (g)              241 non-null    float64\n",
      " 13  Vitamin A (% DV)         241 non-null    int64  \n",
      " 14  Vitamin C (% DV)         241 non-null    int64  \n",
      " 15  Calcium (% DV)           241 non-null    int64  \n",
      " 16  Iron (% DV)              241 non-null    float64\n",
      " 17  Caffeine (mg)            218 non-null    float64\n",
      "dtypes: float64(6), int64(9), object(3)\n",
      "memory usage: 35.8+ KB\n"
     ]
    }
   ],
   "source": [
    "df.info()"
   ]
  },
  {
   "cell_type": "code",
   "execution_count": 16,
   "id": "d151764b",
   "metadata": {},
   "outputs": [
    {
     "data": {
      "text/html": [
       "<div>\n",
       "<style scoped>\n",
       "    .dataframe tbody tr th:only-of-type {\n",
       "        vertical-align: middle;\n",
       "    }\n",
       "\n",
       "    .dataframe tbody tr th {\n",
       "        vertical-align: top;\n",
       "    }\n",
       "\n",
       "    .dataframe thead th {\n",
       "        text-align: right;\n",
       "    }\n",
       "</style>\n",
       "<table border=\"1\" class=\"dataframe\">\n",
       "  <thead>\n",
       "    <tr style=\"text-align: right;\">\n",
       "      <th></th>\n",
       "      <th>Calories</th>\n",
       "      <th>Total Fat (g)</th>\n",
       "      <th>Trans Fat (g)</th>\n",
       "      <th>Saturated Fat (g)</th>\n",
       "      <th>Sodium (mg)</th>\n",
       "      <th>Total Carbohydrates (g)</th>\n",
       "      <th>Cholesterol (mg)</th>\n",
       "      <th>Dietary Fibre (g)</th>\n",
       "      <th>Sugars (g)</th>\n",
       "      <th>Protein (g)</th>\n",
       "      <th>Vitamin A (% DV)</th>\n",
       "      <th>Vitamin C (% DV)</th>\n",
       "      <th>Calcium (% DV)</th>\n",
       "      <th>Iron (% DV)</th>\n",
       "      <th>Caffeine (mg)</th>\n",
       "    </tr>\n",
       "  </thead>\n",
       "  <tbody>\n",
       "    <tr>\n",
       "      <th>count</th>\n",
       "      <td>241.000000</td>\n",
       "      <td>241.000000</td>\n",
       "      <td>241.000000</td>\n",
       "      <td>241.000000</td>\n",
       "      <td>241.000000</td>\n",
       "      <td>241.000000</td>\n",
       "      <td>241.000000</td>\n",
       "      <td>241.000000</td>\n",
       "      <td>241.000000</td>\n",
       "      <td>241.000000</td>\n",
       "      <td>241.000000</td>\n",
       "      <td>241.000000</td>\n",
       "      <td>241.000000</td>\n",
       "      <td>241.000000</td>\n",
       "      <td>218.000000</td>\n",
       "    </tr>\n",
       "    <tr>\n",
       "      <th>mean</th>\n",
       "      <td>193.348548</td>\n",
       "      <td>2.903734</td>\n",
       "      <td>1.310788</td>\n",
       "      <td>0.037759</td>\n",
       "      <td>6.390041</td>\n",
       "      <td>128.381743</td>\n",
       "      <td>35.863071</td>\n",
       "      <td>0.804979</td>\n",
       "      <td>32.834025</td>\n",
       "      <td>6.986722</td>\n",
       "      <td>9.846473</td>\n",
       "      <td>3.630705</td>\n",
       "      <td>20.759336</td>\n",
       "      <td>7.435685</td>\n",
       "      <td>89.931193</td>\n",
       "    </tr>\n",
       "    <tr>\n",
       "      <th>std</th>\n",
       "      <td>102.754009</td>\n",
       "      <td>2.950443</td>\n",
       "      <td>1.642625</td>\n",
       "      <td>0.071484</td>\n",
       "      <td>8.638416</td>\n",
       "      <td>82.101585</td>\n",
       "      <td>20.741713</td>\n",
       "      <td>1.448899</td>\n",
       "      <td>19.669071</td>\n",
       "      <td>4.880120</td>\n",
       "      <td>8.111031</td>\n",
       "      <td>14.449068</td>\n",
       "      <td>14.572526</td>\n",
       "      <td>10.506992</td>\n",
       "      <td>64.589236</td>\n",
       "    </tr>\n",
       "    <tr>\n",
       "      <th>min</th>\n",
       "      <td>0.000000</td>\n",
       "      <td>0.000000</td>\n",
       "      <td>0.000000</td>\n",
       "      <td>0.000000</td>\n",
       "      <td>0.000000</td>\n",
       "      <td>0.000000</td>\n",
       "      <td>0.000000</td>\n",
       "      <td>0.000000</td>\n",
       "      <td>0.000000</td>\n",
       "      <td>0.000000</td>\n",
       "      <td>0.000000</td>\n",
       "      <td>0.000000</td>\n",
       "      <td>0.000000</td>\n",
       "      <td>0.000000</td>\n",
       "      <td>0.000000</td>\n",
       "    </tr>\n",
       "    <tr>\n",
       "      <th>25%</th>\n",
       "      <td>120.000000</td>\n",
       "      <td>0.200000</td>\n",
       "      <td>0.100000</td>\n",
       "      <td>0.000000</td>\n",
       "      <td>0.000000</td>\n",
       "      <td>70.000000</td>\n",
       "      <td>21.000000</td>\n",
       "      <td>0.000000</td>\n",
       "      <td>18.000000</td>\n",
       "      <td>3.000000</td>\n",
       "      <td>4.000000</td>\n",
       "      <td>0.000000</td>\n",
       "      <td>10.000000</td>\n",
       "      <td>0.000000</td>\n",
       "      <td>51.250000</td>\n",
       "    </tr>\n",
       "    <tr>\n",
       "      <th>50%</th>\n",
       "      <td>180.000000</td>\n",
       "      <td>2.500000</td>\n",
       "      <td>0.500000</td>\n",
       "      <td>0.000000</td>\n",
       "      <td>5.000000</td>\n",
       "      <td>125.000000</td>\n",
       "      <td>34.000000</td>\n",
       "      <td>0.000000</td>\n",
       "      <td>32.000000</td>\n",
       "      <td>6.000000</td>\n",
       "      <td>8.000000</td>\n",
       "      <td>0.000000</td>\n",
       "      <td>20.000000</td>\n",
       "      <td>2.000000</td>\n",
       "      <td>75.000000</td>\n",
       "    </tr>\n",
       "    <tr>\n",
       "      <th>75%</th>\n",
       "      <td>260.000000</td>\n",
       "      <td>4.500000</td>\n",
       "      <td>2.000000</td>\n",
       "      <td>0.100000</td>\n",
       "      <td>10.000000</td>\n",
       "      <td>170.000000</td>\n",
       "      <td>50.000000</td>\n",
       "      <td>1.000000</td>\n",
       "      <td>43.000000</td>\n",
       "      <td>10.000000</td>\n",
       "      <td>15.000000</td>\n",
       "      <td>0.000000</td>\n",
       "      <td>30.000000</td>\n",
       "      <td>10.000000</td>\n",
       "      <td>143.750000</td>\n",
       "    </tr>\n",
       "    <tr>\n",
       "      <th>max</th>\n",
       "      <td>510.000000</td>\n",
       "      <td>15.000000</td>\n",
       "      <td>9.000000</td>\n",
       "      <td>0.300000</td>\n",
       "      <td>40.000000</td>\n",
       "      <td>340.000000</td>\n",
       "      <td>90.000000</td>\n",
       "      <td>8.000000</td>\n",
       "      <td>84.000000</td>\n",
       "      <td>20.000000</td>\n",
       "      <td>50.000000</td>\n",
       "      <td>100.000000</td>\n",
       "      <td>60.000000</td>\n",
       "      <td>50.000000</td>\n",
       "      <td>410.000000</td>\n",
       "    </tr>\n",
       "  </tbody>\n",
       "</table>\n",
       "</div>"
      ],
      "text/plain": [
       "         Calories  Total Fat (g)  Trans Fat (g)  Saturated Fat (g)  \\\n",
       "count  241.000000     241.000000     241.000000         241.000000   \n",
       "mean   193.348548       2.903734       1.310788           0.037759   \n",
       "std    102.754009       2.950443       1.642625           0.071484   \n",
       "min      0.000000       0.000000       0.000000           0.000000   \n",
       "25%    120.000000       0.200000       0.100000           0.000000   \n",
       "50%    180.000000       2.500000       0.500000           0.000000   \n",
       "75%    260.000000       4.500000       2.000000           0.100000   \n",
       "max    510.000000      15.000000       9.000000           0.300000   \n",
       "\n",
       "       Sodium (mg)  Total Carbohydrates (g)  Cholesterol (mg)  \\\n",
       "count   241.000000               241.000000        241.000000   \n",
       "mean      6.390041               128.381743         35.863071   \n",
       "std       8.638416                82.101585         20.741713   \n",
       "min       0.000000                 0.000000          0.000000   \n",
       "25%       0.000000                70.000000         21.000000   \n",
       "50%       5.000000               125.000000         34.000000   \n",
       "75%      10.000000               170.000000         50.000000   \n",
       "max      40.000000               340.000000         90.000000   \n",
       "\n",
       "       Dietary Fibre (g)  Sugars (g)  Protein (g)  Vitamin A (% DV)  \\\n",
       "count         241.000000  241.000000   241.000000        241.000000   \n",
       "mean            0.804979   32.834025     6.986722          9.846473   \n",
       "std             1.448899   19.669071     4.880120          8.111031   \n",
       "min             0.000000    0.000000     0.000000          0.000000   \n",
       "25%             0.000000   18.000000     3.000000          4.000000   \n",
       "50%             0.000000   32.000000     6.000000          8.000000   \n",
       "75%             1.000000   43.000000    10.000000         15.000000   \n",
       "max             8.000000   84.000000    20.000000         50.000000   \n",
       "\n",
       "       Vitamin C (% DV)  Calcium (% DV)  Iron (% DV)  Caffeine (mg)  \n",
       "count        241.000000      241.000000   241.000000     218.000000  \n",
       "mean           3.630705       20.759336     7.435685      89.931193  \n",
       "std           14.449068       14.572526    10.506992      64.589236  \n",
       "min            0.000000        0.000000     0.000000       0.000000  \n",
       "25%            0.000000       10.000000     0.000000      51.250000  \n",
       "50%            0.000000       20.000000     2.000000      75.000000  \n",
       "75%            0.000000       30.000000    10.000000     143.750000  \n",
       "max          100.000000       60.000000    50.000000     410.000000  "
      ]
     },
     "execution_count": 16,
     "metadata": {},
     "output_type": "execute_result"
    }
   ],
   "source": [
    "df.describe()"
   ]
  },
  {
   "cell_type": "code",
   "execution_count": 17,
   "id": "3684d60c",
   "metadata": {},
   "outputs": [
    {
     "data": {
      "text/html": [
       "<div>\n",
       "<style scoped>\n",
       "    .dataframe tbody tr th:only-of-type {\n",
       "        vertical-align: middle;\n",
       "    }\n",
       "\n",
       "    .dataframe tbody tr th {\n",
       "        vertical-align: top;\n",
       "    }\n",
       "\n",
       "    .dataframe thead th {\n",
       "        text-align: right;\n",
       "    }\n",
       "</style>\n",
       "<table border=\"1\" class=\"dataframe\">\n",
       "  <thead>\n",
       "    <tr style=\"text-align: right;\">\n",
       "      <th></th>\n",
       "      <th>Beverage_category</th>\n",
       "      <th>Beverage</th>\n",
       "      <th>Beverage_prep</th>\n",
       "      <th>Calories</th>\n",
       "      <th>Total Fat (g)</th>\n",
       "      <th>Trans Fat (g)</th>\n",
       "      <th>Saturated Fat (g)</th>\n",
       "      <th>Sodium (mg)</th>\n",
       "      <th>Total Carbohydrates (g)</th>\n",
       "      <th>Cholesterol (mg)</th>\n",
       "      <th>Dietary Fibre (g)</th>\n",
       "      <th>Sugars (g)</th>\n",
       "      <th>Protein (g)</th>\n",
       "      <th>Vitamin A (% DV)</th>\n",
       "      <th>Vitamin C (% DV)</th>\n",
       "      <th>Calcium (% DV)</th>\n",
       "      <th>Iron (% DV)</th>\n",
       "      <th>Caffeine (mg)</th>\n",
       "    </tr>\n",
       "  </thead>\n",
       "  <tbody>\n",
       "    <tr>\n",
       "      <th>0</th>\n",
       "      <td>Coffee</td>\n",
       "      <td>Brewed Coffee</td>\n",
       "      <td>Short</td>\n",
       "      <td>3</td>\n",
       "      <td>0.1</td>\n",
       "      <td>0.0</td>\n",
       "      <td>0.0</td>\n",
       "      <td>0</td>\n",
       "      <td>5</td>\n",
       "      <td>0</td>\n",
       "      <td>0</td>\n",
       "      <td>0</td>\n",
       "      <td>0.3</td>\n",
       "      <td>0</td>\n",
       "      <td>0</td>\n",
       "      <td>0</td>\n",
       "      <td>0.0</td>\n",
       "      <td>175.0</td>\n",
       "    </tr>\n",
       "    <tr>\n",
       "      <th>1</th>\n",
       "      <td>Coffee</td>\n",
       "      <td>Brewed Coffee</td>\n",
       "      <td>Tall</td>\n",
       "      <td>4</td>\n",
       "      <td>0.1</td>\n",
       "      <td>0.0</td>\n",
       "      <td>0.0</td>\n",
       "      <td>0</td>\n",
       "      <td>10</td>\n",
       "      <td>0</td>\n",
       "      <td>0</td>\n",
       "      <td>0</td>\n",
       "      <td>0.5</td>\n",
       "      <td>0</td>\n",
       "      <td>0</td>\n",
       "      <td>0</td>\n",
       "      <td>0.0</td>\n",
       "      <td>260.0</td>\n",
       "    </tr>\n",
       "    <tr>\n",
       "      <th>2</th>\n",
       "      <td>Coffee</td>\n",
       "      <td>Brewed Coffee</td>\n",
       "      <td>Grande</td>\n",
       "      <td>5</td>\n",
       "      <td>0.1</td>\n",
       "      <td>0.0</td>\n",
       "      <td>0.0</td>\n",
       "      <td>0</td>\n",
       "      <td>10</td>\n",
       "      <td>0</td>\n",
       "      <td>0</td>\n",
       "      <td>0</td>\n",
       "      <td>1.0</td>\n",
       "      <td>0</td>\n",
       "      <td>0</td>\n",
       "      <td>0</td>\n",
       "      <td>0.0</td>\n",
       "      <td>330.0</td>\n",
       "    </tr>\n",
       "    <tr>\n",
       "      <th>3</th>\n",
       "      <td>Coffee</td>\n",
       "      <td>Brewed Coffee</td>\n",
       "      <td>Venti</td>\n",
       "      <td>5</td>\n",
       "      <td>0.1</td>\n",
       "      <td>0.0</td>\n",
       "      <td>0.0</td>\n",
       "      <td>0</td>\n",
       "      <td>10</td>\n",
       "      <td>0</td>\n",
       "      <td>0</td>\n",
       "      <td>0</td>\n",
       "      <td>1.0</td>\n",
       "      <td>0</td>\n",
       "      <td>0</td>\n",
       "      <td>2</td>\n",
       "      <td>0.0</td>\n",
       "      <td>410.0</td>\n",
       "    </tr>\n",
       "    <tr>\n",
       "      <th>4</th>\n",
       "      <td>Classic Espresso Drinks</td>\n",
       "      <td>Caffè Latte</td>\n",
       "      <td>Short Nonfat Milk</td>\n",
       "      <td>70</td>\n",
       "      <td>0.1</td>\n",
       "      <td>0.1</td>\n",
       "      <td>0.0</td>\n",
       "      <td>5</td>\n",
       "      <td>75</td>\n",
       "      <td>10</td>\n",
       "      <td>0</td>\n",
       "      <td>9</td>\n",
       "      <td>6.0</td>\n",
       "      <td>10</td>\n",
       "      <td>0</td>\n",
       "      <td>20</td>\n",
       "      <td>0.0</td>\n",
       "      <td>75.0</td>\n",
       "    </tr>\n",
       "  </tbody>\n",
       "</table>\n",
       "</div>"
      ],
      "text/plain": [
       "         Beverage_category       Beverage      Beverage_prep  Calories  \\\n",
       "0                   Coffee  Brewed Coffee              Short         3   \n",
       "1                   Coffee  Brewed Coffee               Tall         4   \n",
       "2                   Coffee  Brewed Coffee             Grande         5   \n",
       "3                   Coffee  Brewed Coffee              Venti         5   \n",
       "4  Classic Espresso Drinks    Caffè Latte  Short Nonfat Milk        70   \n",
       "\n",
       "   Total Fat (g)  Trans Fat (g)  Saturated Fat (g)  Sodium (mg)  \\\n",
       "0            0.1            0.0                0.0            0   \n",
       "1            0.1            0.0                0.0            0   \n",
       "2            0.1            0.0                0.0            0   \n",
       "3            0.1            0.0                0.0            0   \n",
       "4            0.1            0.1                0.0            5   \n",
       "\n",
       "   Total Carbohydrates (g)  Cholesterol (mg)  Dietary Fibre (g)  Sugars (g)  \\\n",
       "0                        5                 0                  0           0   \n",
       "1                       10                 0                  0           0   \n",
       "2                       10                 0                  0           0   \n",
       "3                       10                 0                  0           0   \n",
       "4                       75                10                  0           9   \n",
       "\n",
       "   Protein (g)  Vitamin A (% DV)  Vitamin C (% DV)  Calcium (% DV)  \\\n",
       "0          0.3                 0                 0               0   \n",
       "1          0.5                 0                 0               0   \n",
       "2          1.0                 0                 0               0   \n",
       "3          1.0                 0                 0               2   \n",
       "4          6.0                10                 0              20   \n",
       "\n",
       "   Iron (% DV)  Caffeine (mg)  \n",
       "0          0.0          175.0  \n",
       "1          0.0          260.0  \n",
       "2          0.0          330.0  \n",
       "3          0.0          410.0  \n",
       "4          0.0           75.0  "
      ]
     },
     "execution_count": 17,
     "metadata": {},
     "output_type": "execute_result"
    }
   ],
   "source": [
    "df.head()"
   ]
  },
  {
   "cell_type": "code",
   "execution_count": null,
   "id": "a84efcd7",
   "metadata": {},
   "outputs": [],
   "source": []
  },
  {
   "cell_type": "code",
   "execution_count": null,
   "id": "e03d5847",
   "metadata": {},
   "outputs": [],
   "source": [
    "# load the dataframe\n",
    "#df_food = pd.read_csv(\"starbucks-menu-nutrition-food.csv\", index_col=[0])\n",
    "# with open('starbucks-menu-nutrition-food.csv','rb') as f:\n",
    "#     contents = f.read()\n",
    "# contents = contents.rstrip(\"\\n\").decode(\"utf-16\")\n",
    "# contents = contents.split(\"\\r\\n\")\n"
   ]
  },
  {
   "cell_type": "code",
   "execution_count": null,
   "id": "77575bfc",
   "metadata": {},
   "outputs": [],
   "source": [
    "# with open('starbucks-menu-nutrition-food.csv', encoding='utf-16') as f:\n",
    "#     contents = f.read()"
   ]
  },
  {
   "cell_type": "code",
   "execution_count": null,
   "id": "aa27ee6d",
   "metadata": {},
   "outputs": [],
   "source": [
    "# #food = pd.read_csv(contents, header=None)\n",
    "# food = contents.to_csv()\n",
    "# #contents\n",
    "# # food = pd.DataFrame(contents)"
   ]
  },
  {
   "cell_type": "code",
   "execution_count": null,
   "id": "ab6b5353",
   "metadata": {},
   "outputs": [],
   "source": [
    "#df_drinks = pd.read_csv(\"starbucks-menu-nutrition-drinks.csv\")"
   ]
  },
  {
   "cell_type": "code",
   "execution_count": null,
   "id": "a203626c",
   "metadata": {},
   "outputs": [],
   "source": [
    "#df_drinks.shape"
   ]
  },
  {
   "cell_type": "code",
   "execution_count": null,
   "id": "d99b68e4",
   "metadata": {},
   "outputs": [],
   "source": []
  },
  {
   "cell_type": "code",
   "execution_count": null,
   "id": "50193a2c",
   "metadata": {},
   "outputs": [],
   "source": []
  },
  {
   "cell_type": "code",
   "execution_count": null,
   "id": "a23d6e38",
   "metadata": {},
   "outputs": [],
   "source": []
  },
  {
   "cell_type": "code",
   "execution_count": null,
   "id": "e00365d2",
   "metadata": {},
   "outputs": [],
   "source": []
  },
  {
   "cell_type": "code",
   "execution_count": null,
   "id": "7a1edd65",
   "metadata": {},
   "outputs": [],
   "source": []
  },
  {
   "cell_type": "code",
   "execution_count": null,
   "id": "1af30350",
   "metadata": {},
   "outputs": [],
   "source": []
  },
  {
   "cell_type": "code",
   "execution_count": null,
   "id": "0110bc8c",
   "metadata": {},
   "outputs": [],
   "source": []
  },
  {
   "cell_type": "code",
   "execution_count": null,
   "id": "ba7aac51",
   "metadata": {},
   "outputs": [],
   "source": []
  },
  {
   "cell_type": "code",
   "execution_count": null,
   "id": "06b3ca68",
   "metadata": {},
   "outputs": [],
   "source": []
  },
  {
   "cell_type": "markdown",
   "id": "bca0a63d",
   "metadata": {},
   "source": [
    "## EDA"
   ]
  },
  {
   "cell_type": "code",
   "execution_count": null,
   "id": "c00f34a5",
   "metadata": {
    "scrolled": false
   },
   "outputs": [],
   "source": [
    "df.info()"
   ]
  },
  {
   "cell_type": "code",
   "execution_count": null,
   "id": "045164e0",
   "metadata": {},
   "outputs": [],
   "source": [
    "df.isna().sum()"
   ]
  },
  {
   "cell_type": "code",
   "execution_count": null,
   "id": "b47580b7",
   "metadata": {},
   "outputs": [],
   "source": [
    "df['popular_year'] = df['popular_year'].fillna(0)\n",
    "df['popular_year'] = df['popular_year'].astype(int)"
   ]
  },
  {
   "attachments": {
    "image-2.png": {
     "image/png": "[encoded data removed]"
    },
    "image.png": {
     "image/png": "[encoded data removed]"
    }
   },
   "cell_type": "markdown",
   "id": "118ec332",
   "metadata": {},
   "source": [
    "### Selection of dependent variable:\n",
    "\n",
    "The goal of our model is to determine if a song will place on the Top Hits playlist on Spotify  in a given year.  Each of these Top Hits playlists contains 100 songs. I will refer to the songs in that appeared in these playlist as Top Hits or Top Songs throughout the notebook.\n",
    "\n",
    "I have represented this with the Top100 variable. Let's explore the dependent variable further.\n",
    "\n",
    "![image.png](attachment:image.png) ![image-2.png](attachment:image-2.png)"
   ]
  },
  {
   "cell_type": "code",
   "execution_count": null,
   "id": "39ec1dfa",
   "metadata": {},
   "outputs": [],
   "source": [
    "# subset of tracks that made top 100\n",
    "TopSongs = df[df['Top100'] == \"Y\"]"
   ]
  },
  {
   "cell_type": "code",
   "execution_count": null,
   "id": "763c8266",
   "metadata": {},
   "outputs": [],
   "source": [
    "len(TopSongs)"
   ]
  },
  {
   "cell_type": "markdown",
   "id": "6f291a54",
   "metadata": {},
   "source": [
    "The data sample runs from the year 2000 through 2021, and there are 100 tracks in the Top Songs list for each year.  This means that we were able to get 88% of possible records (1863/2100) in our data retrieval."
   ]
  },
  {
   "cell_type": "markdown",
   "id": "21306385",
   "metadata": {},
   "source": [
    "### Artists\n",
    "\n",
    "Let's first take a look at the Artists that earned Top Song status over this time period"
   ]
  },
  {
   "cell_type": "code",
   "execution_count": null,
   "id": "4cb09d55",
   "metadata": {},
   "outputs": [],
   "source": [
    "Artists_Grouped = TopSongs['artist_name'].value_counts().reset_index()\n",
    "Artists_Grouped.index = Artists_Grouped.index + 1\n",
    "Artists_Grouped.columns = ['Artist', 'Count']\n",
    "Artists_Grouped.head(30)"
   ]
  },
  {
   "cell_type": "markdown",
   "id": "9502832c",
   "metadata": {},
   "source": [
    "_Observations:_\n",
    "\n",
    "- We can see that there are five artists that had at least 20 Top Songs over this time period, and twenty-eight artists that had at least 10 Top Songs."
   ]
  },
  {
   "cell_type": "code",
   "execution_count": null,
   "id": "1837d180",
   "metadata": {},
   "outputs": [],
   "source": [
    "Artists_Grouped_Year = TopSongs[['artist_name', 'popular_year']].value_counts().reset_index()\n",
    "Artists_Grouped_Year.index = Artists_Grouped_Year.index + 1\n",
    "Artists_Grouped_Year.columns = ['Artist', 'Year', 'Count']\n",
    "#Artists_Grouped_Year\n",
    "Artists_Grouped_Year.head(30)"
   ]
  },
  {
   "cell_type": "markdown",
   "id": "7829ae73",
   "metadata": {},
   "source": [
    "_Observations:_\n",
    "\n",
    "- The most Top Songs produced by an artist in any one year is five, and this has been done by five different artists.  Four Top Songs was much more frequent, having been achieved by fifteen different artists in the time period."
   ]
  },
  {
   "cell_type": "markdown",
   "id": "5cfa73db",
   "metadata": {},
   "source": [
    "Let's view a time series of the top artists\n"
   ]
  },
  {
   "cell_type": "code",
   "execution_count": null,
   "id": "c89fabf6",
   "metadata": {},
   "outputs": [],
   "source": [
    "top5Artists = list(Artists_Grouped['Artist'])[0:5]"
   ]
  },
  {
   "cell_type": "code",
   "execution_count": null,
   "id": "8252690e",
   "metadata": {},
   "outputs": [],
   "source": [
    "top10Artists = list(Artists_Grouped['Artist'])[0:10]"
   ]
  },
  {
   "cell_type": "code",
   "execution_count": null,
   "id": "68db573e",
   "metadata": {},
   "outputs": [],
   "source": [
    "df2 = Artists_Grouped_Year.query(\"Artist in @top5Artists\")\n",
    "df2"
   ]
  },
  {
   "cell_type": "code",
   "execution_count": null,
   "id": "87b9a54d",
   "metadata": {},
   "outputs": [],
   "source": [
    "ctab = pd.crosstab([TopSongs['popular_year']], TopSongs['artist_name'])\n",
    "ctab[top5Artists].plot(kind='bar', stacked=True, colormap='Accent', figsize=(12,8)).legend(loc='center left', bbox_to_anchor=(1, 0.5))\n",
    "plt.title(\"Top 5 Artists: Top Hits Per Year\")\n",
    "plt.xticks(rotation=45)\n",
    "plt.show()"
   ]
  },
  {
   "cell_type": "markdown",
   "id": "7fd6c50e",
   "metadata": {},
   "source": [
    "It looks like Eminmen and Rihanna dominated the period from 2000 to 2010.  Let's take a closer look at that time period."
   ]
  },
  {
   "cell_type": "code",
   "execution_count": null,
   "id": "8cc70c4e",
   "metadata": {},
   "outputs": [],
   "source": [
    "FirstDecade = TopSongs.query(\"popular_year < 2011\")\n",
    "Artists_Grouped_FD = FirstDecade['artist_name'].value_counts().reset_index()\n",
    "Artists_Grouped_FD.index = Artists_Grouped_FD.index + 1\n",
    "Artists_Grouped_FD.columns = ['Artist', 'Count']\n",
    "Artists_Grouped_FD.head(10)"
   ]
  },
  {
   "cell_type": "markdown",
   "id": "f04db94c",
   "metadata": {},
   "source": [
    "### Genres\n",
    "\n",
    "#### Let's look at the most popular genres in the Top 100s"
   ]
  },
  {
   "cell_type": "code",
   "execution_count": null,
   "id": "d73eb856",
   "metadata": {},
   "outputs": [],
   "source": [
    "Genres_Grouped = TopSongs['track_genre'].value_counts().reset_index()\n",
    "Genres_Grouped.index = Genres_Grouped.index + 1\n",
    "Genres_Grouped.columns = ['Genre', 'Count']\n",
    "Genres_Grouped['pct_of_total'] = Genres_Grouped.Count / Genres_Grouped.Count.sum()\n",
    "#Genres_Grouped.loc[:, \"pct_of_total\"] = Genres_Grouped[\"pct_of_total\"].map('{:.0%}'.format)\n",
    "Genres_Grouped.loc[:, \"pct_of_total\"] = Genres_Grouped[\"pct_of_total\"].map('{:,.2f}'.format)\n",
    "Genres_Grouped.head(10)"
   ]
  },
  {
   "cell_type": "markdown",
   "id": "7eb64599",
   "metadata": {},
   "source": [
    "We can see that pop, hip-hop, and house are the most dominant genres."
   ]
  },
  {
   "cell_type": "code",
   "execution_count": null,
   "id": "412f5afe",
   "metadata": {},
   "outputs": [],
   "source": [
    "# Create a pieplot\n",
    "plt.rcParams[\"figure.figsize\"] = (7,7)\n",
    "plt.title(\"Distribution of Genres\")\n",
    "plt.pie(Genres_Grouped['pct_of_total'], labels=Genres_Grouped['Genre'], labeldistance=1.1, wedgeprops = { 'linewidth' : 1, 'edgecolor' : 'white' }, autopct='%1.0f%%')\n",
    "# add a circle at the center to transform it in a donut chart\n",
    "my_circle=plt.Circle( (0,0), 0.4, color='white')\n",
    "p=plt.gcf()\n",
    "p.gca().add_artist(my_circle)\n",
    ";"
   ]
  },
  {
   "cell_type": "markdown",
   "id": "0ca7a10f",
   "metadata": {},
   "source": [
    "#### Genres over time"
   ]
  },
  {
   "cell_type": "code",
   "execution_count": null,
   "id": "ba4d42b4",
   "metadata": {},
   "outputs": [],
   "source": [
    "genres = ['hip-hop', 'house', 'pop', 'r&b', 'rock', 'country', 'dance', 'alternative', 'indie']\n",
    "ctab = pd.crosstab([TopSongs['popular_year']], TopSongs['track_genre']).apply(lambda x: x/x.sum(), axis=1)\n",
    "ctab[genres].plot(kind='bar', stacked=True, colormap='Accent', figsize=(12,8)).legend(loc='center left', bbox_to_anchor=(1, 0.5))\n",
    "plt.title(\"Percentage Composition Genres in Top 100 Per Year\")\n",
    "plt.xticks(rotation=45)\n",
    "plt.xlabel('Year')\n",
    "plt.show()"
   ]
  },
  {
   "cell_type": "markdown",
   "id": "42b67769",
   "metadata": {},
   "source": [
    "_Observations on genres over time:_\n",
    "\n",
    "- Pop and hip-hop have always maintained a sizeable portion of the Top Songs\n",
    "- House music really began to hold a meaningful position starting in 2010\n",
    "- Rock and Country music has faded in popularity in recent years"
   ]
  },
  {
   "cell_type": "markdown",
   "id": "88869f59",
   "metadata": {},
   "source": [
    "### Labels\n",
    "\n",
    "#### Let's look at the Labels with the most songs in the Top 100s"
   ]
  },
  {
   "cell_type": "code",
   "execution_count": null,
   "id": "07c6f9a6",
   "metadata": {},
   "outputs": [],
   "source": [
    "TopLabels = TopSongs['Label'].value_counts().reset_index()\n",
    "TopLabels.index = TopLabels.index + 1\n",
    "TopLabels.columns = ['Label', 'Count']\n",
    "TopLabels['pct_of_total'] = TopLabels.Count / TopLabels.Count.sum()\n",
    "#Genres_Grouped.loc[:, \"pct_of_total\"] = Genres_Grouped[\"pct_of_total\"].map('{:.0%}'.format)\n",
    "TopLabels.loc[:, \"pct_of_total\"] = TopLabels[\"pct_of_total\"].map('{:,.2f}'.format)\n",
    "TopLabels.head(30)"
   ]
  },
  {
   "cell_type": "markdown",
   "id": "0f9b5e0b",
   "metadata": {},
   "source": [
    "_Observations:_\n",
    "\n",
    "- There is a fair distribution of hits among labels, with no single label containing more than 6%.  However, the above data does not account for subsidiaries of the major labels. For example, Atlantic is a subsidiary of Warner Bros, and Capitol is a subsidiary of Universal.  If we were to combine all of the subsidiaries under their Major umbrella, I suspect the Majors (Universal, Warner, Sony)  would dominate the rankings."
   ]
  },
  {
   "cell_type": "markdown",
   "id": "fd5f6557",
   "metadata": {},
   "source": [
    "### Artist Country of Origin\n",
    "\n",
    "#### Let's look at artist country of origin for Top Songs"
   ]
  },
  {
   "cell_type": "code",
   "execution_count": null,
   "id": "5dbaed78",
   "metadata": {},
   "outputs": [],
   "source": [
    "TopCountries = TopSongs['artist_country'].value_counts().reset_index()\n",
    "TopCountries.index = TopCountries.index + 1\n",
    "TopCountries.columns = ['Country', 'Count']\n",
    "TopCountries['pct_of_total'] = TopCountries.Count / TopCountries.Count.sum()\n",
    "#Genres_Grouped.loc[:, \"pct_of_total\"] = Genres_Grouped[\"pct_of_total\"].map('{:.0%}'.format)\n",
    "TopCountries.loc[:, \"pct_of_total\"] = TopCountries[\"pct_of_total\"].map('{:,.2f}'.format)\n",
    "TopCountries.head(30)"
   ]
  },
  {
   "cell_type": "markdown",
   "id": "2eaaf566",
   "metadata": {},
   "source": [
    "_Observations:_\n",
    "\n",
    "- Being from a country where English is the primary language is a major advantage for an artist, with the US, UK, Canada, Australia, and Ireland all appearing in the Top 10 and making up 90% of Top Songs.  This does not necessarily map to the locale of Spotify subscribers, with Europe comprising 39% of subs, North America comprising 28%, Latin America at 21%, and the Rest of the World at 12%. \n",
    "- I'm curious if there are certain countries that over-index on Top Songs, relative to the size of their populations.  Countries with large populations like the US and Germany aren't surprising to see in the Top 10.  But there are several others that are near the top of the list that are relatively small populations.\n"
   ]
  },
  {
   "cell_type": "code",
   "execution_count": null,
   "id": "eaaeaf4f",
   "metadata": {},
   "outputs": [],
   "source": [
    "# import population data to merge with dataset\n",
    "pop_detail = pd.read_csv(\"../Data/population_data.csv\")"
   ]
  },
  {
   "cell_type": "code",
   "execution_count": null,
   "id": "8f7980ad",
   "metadata": {},
   "outputs": [],
   "source": [
    "# merge the datasets\n",
    "TopCountries = TopCountries.merge(pop_detail['pop2023'], how = 'left',\n",
    "                left_on = 'Country', right_on = pop_detail['country'])\n",
    "TopCountries.index = TopCountries.index + 1"
   ]
  },
  {
   "cell_type": "code",
   "execution_count": null,
   "id": "2d19f0e8",
   "metadata": {},
   "outputs": [],
   "source": [
    "# create 'hits_pop_ratio': the higher the ratio, the higher the number of hits relative to the population\n",
    "TopCountries['hits_pop_ratio'] = (TopCountries['Count'] / TopCountries['pop2023'])*1000000\n",
    "TopCountries.loc[:, 'hits_pop_ratio'] = TopCountries['hits_pop_ratio'].map('{:,.2f}'.format)"
   ]
  },
  {
   "cell_type": "code",
   "execution_count": null,
   "id": "69f6755b",
   "metadata": {},
   "outputs": [],
   "source": [
    "TopCountries.head(30)"
   ]
  },
  {
   "cell_type": "markdown",
   "id": "3d0b4f5d",
   "metadata": {},
   "source": [
    "Places like the UK, Canada, Jamaica, and Iceland produce a lot of hits relative to their populations, each having a ratio over 3.  The US also boasts a ratio over 3 in spite of its very large population!"
   ]
  },
  {
   "cell_type": "markdown",
   "id": "f0ba13cc",
   "metadata": {},
   "source": [
    "### Collaborations\n",
    "\n",
    "#### Let's look at how much of a factor collaborations are in creating hits"
   ]
  },
  {
   "cell_type": "code",
   "execution_count": null,
   "id": "c76f22b2",
   "metadata": {},
   "outputs": [],
   "source": [
    "TopSongs.collaboration.value_counts()"
   ]
  },
  {
   "cell_type": "code",
   "execution_count": null,
   "id": "5e09f942",
   "metadata": {},
   "outputs": [],
   "source": [
    "345/1863"
   ]
  },
  {
   "cell_type": "markdown",
   "id": "d073c1e2",
   "metadata": {},
   "source": [
    "__Of all the Top Hits, about 19% were collaborations.__"
   ]
  },
  {
   "cell_type": "code",
   "execution_count": null,
   "id": "4cbe33ee",
   "metadata": {},
   "outputs": [],
   "source": [
    "#QUESTION: how create something where it would show the total count of N, Y in separate columns, by year, so that I could then calculate percentage of total?\n",
    "TopCollabs2 = TopSongs.groupby(['popular_year']).collaboration.value_counts()\n",
    "TopCollabs2"
   ]
  },
  {
   "cell_type": "code",
   "execution_count": null,
   "id": "e0449af5",
   "metadata": {},
   "outputs": [],
   "source": [
    "collab_values = ['N', 'Y']\n",
    "ctab = pd.crosstab([TopSongs['popular_year']], TopSongs['collaboration']).apply(lambda x: x/x.sum(), axis=1)\n",
    "ctab[collab_values].plot(kind='area', stacked=True, colormap='tab20', figsize=(10,6)).legend(loc='center left', bbox_to_anchor=(1, 0.5))\n",
    "\n",
    "plt.title(\"Percentage Collaborations in Top Songs Over Time\")\n",
    "plt.xticks(np.arange(min(TopSongs['popular_year']), max(TopSongs['popular_year'])+1, 2.0))\n",
    "plt.xlabel('Year')\n",
    "plt.ylabel('Percentage')\n",
    "plt.show()"
   ]
  },
  {
   "cell_type": "markdown",
   "id": "523bccae",
   "metadata": {},
   "source": [
    "_Observations:_\n",
    "\n",
    "- We can see in the chart above that the prevalence of collaobrations in Top Hits has increased over time, hitting an all-time peak in 2020.\n",
    "    "
   ]
  },
  {
   "cell_type": "markdown",
   "id": "db20f265",
   "metadata": {},
   "source": [
    "### Audio Features\n",
    "\n",
    "#### Let's now take a look at audio features that Spotify provides for songs.\n",
    "\n",
    "Most of these audio features are on a scale of 0 to 1, while others have nuanced scales specific to that characteritic  \n",
    "\n",
    "Full deatils on each of these audio features can be found at Spotify's developer documentation: https://developer.spotify.com/documentation/web-api/reference/#/operations/get-audio-features"
   ]
  },
  {
   "cell_type": "markdown",
   "id": "b7deabb5",
   "metadata": {},
   "source": [
    "We'll first take a look at the audio features for all songs, not just the Top Hits."
   ]
  },
  {
   "cell_type": "code",
   "execution_count": null,
   "id": "4b3b7f6b",
   "metadata": {},
   "outputs": [],
   "source": [
    "#let's select only the audio features:\n",
    "df_af = df[['key', 'acousticness','danceability', 'duration_ms', 'energy', 'instrumentalness', 'liveness', 'loudness', 'modality','speechiness', 'tempo', 'time_signature', 'valence']]\n",
    "\n",
    "df_af.head()"
   ]
  },
  {
   "cell_type": "code",
   "execution_count": null,
   "id": "63b551c7",
   "metadata": {},
   "outputs": [],
   "source": [
    "df_af.key.value_counts()"
   ]
  },
  {
   "cell_type": "code",
   "execution_count": null,
   "id": "3d659cc3",
   "metadata": {},
   "outputs": [],
   "source": [
    "df_af.modality.value_counts()"
   ]
  },
  {
   "cell_type": "code",
   "execution_count": null,
   "id": "7e1b0774",
   "metadata": {},
   "outputs": [],
   "source": [
    "df_af.time_signature.value_counts()"
   ]
  },
  {
   "cell_type": "markdown",
   "id": "3858af0e",
   "metadata": {},
   "source": [
    "#### Examining the data closer, it appears that key, modality, and time_signature are all categorical variables.  These should be excluded from the statistical calculations that follow."
   ]
  },
  {
   "cell_type": "code",
   "execution_count": null,
   "id": "71939573",
   "metadata": {},
   "outputs": [],
   "source": [
    "df_af = df_af.drop(columns=['key', 'modality', 'time_signature'])"
   ]
  },
  {
   "cell_type": "code",
   "execution_count": null,
   "id": "865aef68",
   "metadata": {},
   "outputs": [],
   "source": [
    "df_af.head()"
   ]
  },
  {
   "cell_type": "code",
   "execution_count": null,
   "id": "c10057b4",
   "metadata": {},
   "outputs": [],
   "source": [
    "sns.set(font_scale=1)\n",
    "f, ax = plt.subplots(figsize=(16, 8))\n",
    "sns.heatmap(df_af.corr(), annot=True, linewidths=.5, ax=ax, fmt='n')\n",
    ";"
   ]
  },
  {
   "cell_type": "markdown",
   "id": "739aeba4",
   "metadata": {},
   "source": [
    "### Observations on correlation matrix: \n",
    "There does not appear to be much widespread correlation between the availble variables.  The only variables with a coefficient higher than +_0.5 are:\n",
    " - Energy/Acousticness\n",
    " - Danceability/Valence\n",
    " - Loudness/Accousticness\n",
    " - Energy/Loudness\n",
    " - Acousticness/Loudness\n",
    " - Loudness/Instrumentalness\n",
    " \n",
    " It's worth noting that Loudness is included in four of these pairs (could be a candidate for removal)"
   ]
  },
  {
   "cell_type": "code",
   "execution_count": null,
   "id": "3b2966fa",
   "metadata": {},
   "outputs": [],
   "source": [
    "df_af.describe()"
   ]
  },
  {
   "cell_type": "markdown",
   "id": "8e8aa376",
   "metadata": {},
   "source": [
    "Let's now look at the audio features for just the Top Hits and compare them to the statistics above."
   ]
  },
  {
   "cell_type": "code",
   "execution_count": null,
   "id": "39368f0e",
   "metadata": {},
   "outputs": [],
   "source": [
    "TopSongs_af = TopSongs[['acousticness','danceability', 'duration_ms', 'energy', 'instrumentalness', 'liveness', 'loudness','speechiness', 'tempo', 'valence']]\n",
    "TopSongs_af.describe()"
   ]
  },
  {
   "cell_type": "markdown",
   "id": "ab4c570a",
   "metadata": {},
   "source": [
    "Interestingly, these statistics appear to vary from the total song population and the Top Hits. Just eye-balling a few, acousticness, danceability, energy, instrumentalness, and loudness at least have meaningfully different means. Hopefully this bodes well for the modeling component that will come later. "
   ]
  },
  {
   "cell_type": "code",
   "execution_count": null,
   "id": "4ba01b5d",
   "metadata": {},
   "outputs": [],
   "source": [
    "# look at atrributes over time\n",
    "# are these attributes different by country\n",
    "# only include song attributes here, exclude categorical"
   ]
  },
  {
   "cell_type": "markdown",
   "id": "ea032c4c",
   "metadata": {},
   "source": [
    "### Let's look at the distribution of numerical variables"
   ]
  },
  {
   "cell_type": "code",
   "execution_count": null,
   "id": "2b17ae4f",
   "metadata": {},
   "outputs": [],
   "source": [
    "df_af.hist(figsize=(15,10))\n",
    "plt.subplots_adjust(hspace=0.5)"
   ]
  },
  {
   "cell_type": "markdown",
   "id": "8392bedd",
   "metadata": {},
   "source": [
    "_Observations:_\n",
    "- Only a few of these variables appear to potentially have a normal distribution.  I'll run a stats test below to check as well.\n",
    "- It appears there could be the presence of outliers in duration_ms, liveness, loudness, speechiness, and tempo.\n"
   ]
  },
  {
   "cell_type": "code",
   "execution_count": null,
   "id": "dab83384",
   "metadata": {},
   "outputs": [],
   "source": [
    "#QUESTION: worthwhile digging into the potential outliers?"
   ]
  },
  {
   "cell_type": "code",
   "execution_count": null,
   "id": "bcafd9e1",
   "metadata": {},
   "outputs": [],
   "source": [
    "for column_name in df_af.columns:\n",
    "    data = df_af[column_name]\n",
    "    output = stats.normaltest(data)\n",
    "    print(column_name,\": \",output)\n",
    "    #print(output)"
   ]
  },
  {
   "cell_type": "markdown",
   "id": "bc64a563",
   "metadata": {},
   "source": [
    "#### All of the very low p-values above indicate that none of these variables is in fact normally distributed."
   ]
  }
 ],
 "metadata": {
  "kernelspec": {
   "display_name": "Python 3 (ipykernel)",
   "language": "python",
   "name": "python3"
  },
  "language_info": {
   "codemirror_mode": {
    "name": "ipython",
    "version": 3
   },
   "file_extension": ".py",
   "mimetype": "text/x-python",
   "name": "python",
   "nbconvert_exporter": "python",
   "pygments_lexer": "ipython3",
   "version": "3.9.12"
  }
 },
 "nbformat": 4,
 "nbformat_minor": 5
}
