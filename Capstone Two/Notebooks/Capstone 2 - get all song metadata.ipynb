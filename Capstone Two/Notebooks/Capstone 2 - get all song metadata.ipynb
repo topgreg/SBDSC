{
 "cells": [
  {
   "cell_type": "markdown",
   "id": "9017bfdd",
   "metadata": {},
   "source": [
    "#pip install spotipy"
   ]
  },
  {
   "cell_type": "markdown",
   "id": "d105559d",
   "metadata": {},
   "source": [
    "spotipy documentation\n",
    "https://spotipy.readthedocs.io/en/latest/#installation\n",
    "\n",
    "google sheet with links to top song playlists: https://docs.google.com/spreadsheets/d/10gRoHKIB1RFfxSvb83gzYkV33x5eMMI1RZoXSamFwPI/edit#gid=824975682\n",
    "\n",
    "github with examples of pulling lots of spotify data: https://github.com/ekatnic/SpotifyApiExploration/blob/master/Spotify_Generate_Tracks.ipynb"
   ]
  },
  {
   "cell_type": "code",
   "execution_count": 1,
   "id": "6b17b388",
   "metadata": {},
   "outputs": [],
   "source": [
    "# Let's import the pandas, numpy libraries as pd, and np respectively. \n",
    "import pandas as pd\n",
    "import numpy as np\n",
    "\n",
    "# Load the pyplot collection of functions from matplotlib, as plt \n",
    "from matplotlib import pyplot as plt\n",
    "\n",
    "import spotipy\n",
    "from spotipy.oauth2 import SpotifyClientCredentials\n",
    "#import sys\n",
    "\n",
    "cid = \"\"\n",
    "secret = \"\" \n",
    "\n",
    "client_credentials_manager = SpotifyClientCredentials(client_id=cid, client_secret=secret) \n",
    "sp = spotipy.Spotify(client_credentials_manager=client_credentials_manager)"
   ]
  },
  {
   "cell_type": "markdown",
   "id": "37dc26b6",
   "metadata": {},
   "source": [
    "#### write to CSV\n",
    "from pathlib import Path  \n",
    "filepath = Path('/Users/gregwelliver/Desktop/springboard_files/Capstone Two - Music/Data/AllCharts 2000-2021.csv')  \n",
    "filepath.parent.mkdir(parents=True, exist_ok=True)  \n",
    "df.to_csv(filepath)"
   ]
  },
  {
   "cell_type": "code",
   "execution_count": 2,
   "id": "0276a06c",
   "metadata": {},
   "outputs": [],
   "source": [
    "# Initializing lists for basic track details\n",
    "artist_name = []\n",
    "artist_id = []\n",
    "album_name = []\n",
    "album_id = []\n",
    "track_name = []\n",
    "track_id = []\n",
    "track_pop = []\n",
    "track_year = []\n",
    "track_spotify_genre = []\n",
    "track_uri = []\n",
    "\n",
    "# Initiating lists for track audio features\n",
    "key = []\n",
    "acousticness = []\n",
    "danceability = []\n",
    "duration_ms = []\n",
    "energy = []\n",
    "instrumentalness = []\n",
    "liveness = []\n",
    "loudness = []\n",
    "mode = []\n",
    "speechiness = []\n",
    "tempo = []\n",
    "time_signature = []\n",
    "valence = []\n",
    "\n",
    "# Initializing genre\n",
    "artist_genre = []"
   ]
  },
  {
   "cell_type": "markdown",
   "id": "45b6d811",
   "metadata": {},
   "source": [
    "# Get collection of song ids and basic track details - 50 tracks per \n",
    "for genre in ['hip-hop', 'house','indie','pop','r&b','rock', 'soundtrack', 'jazz', 'classical', 'country', 'dance', 'alternative', 'movie', 'world', 'blues']:\n",
    "  for year in range(2020,2022): \n",
    "      query = \"genre:\" + genre + \" year:\" + str(year)\n",
    "      for i in range(0,1000,50):\n",
    "          track_results = sp.search(q=query, type='track', limit=50, offset=i) # change 'q=' argument for year\n",
    "          for item in track_results['tracks']['items']:\n",
    "              artist_name.append(item['album']['artists'][0]['name'])\n",
    "              artist_id.append(item['album']['artists'][0]['id'])\n",
    "              track_name.append(item['name'])\n",
    "              track_id.append(item['id'])\n",
    "              track_pop.append(item['popularity'])\n",
    "              track_year.append(year)\n",
    "              track_spotify_genre.append(genre)\n",
    "              #album_name.append(item['album']['name'])\n",
    "              #album_id.append(item['album']['id'])\n",
    "              track_uri.append(item['uri'])\n",
    "\n",
    "len(artist_name)\n",
    "# len(artist_id)\n",
    "# len(track_name)\n",
    "# len(track_id)\n",
    "# len(track_pop)\n",
    "# len(track_year)\n",
    "# len(track_spotify_genre)\n",
    "# len(track_uri)"
   ]
  },
  {
   "cell_type": "code",
   "execution_count": null,
   "id": "ba567fa1",
   "metadata": {},
   "outputs": [],
   "source": [
    "#print(len(artist_name))\n",
    "#print(len(artist_id))\n",
    "#len(track_name)\n",
    "#len(track_id)\n",
    "#len(track_pop)\n",
    "#len(track_year)\n",
    "#len(track_spotify_genre)\n",
    "len(track_uri)"
   ]
  },
  {
   "cell_type": "markdown",
   "id": "cbd1d7ac",
   "metadata": {},
   "source": [
    "for year in range(2017,2018): \n",
    "      query = \" year:\" + str(year)\n",
    "      for i in range(0,1000,50):\n",
    "          track_results = sp.search(q=query, type='track', limit=50, offset=i) # change 'q=' argument for year\n",
    "          for item in track_results['tracks']['items']:\n",
    "              artist_name.append(item['album']['artists'][0]['name'])\n",
    "              artist_id.append(item['album']['artists'][0]['id'])\n",
    "              track_name.append(item['name'])\n",
    "              track_id.append(item['id'])\n",
    "              track_pop.append(item['popularity'])\n",
    "              track_year.append(year)\n",
    "              track_spotify_genre.append(genre)\n",
    "              #album_name.append(item['album']['name'])\n",
    "              #album_id.append(item['album']['id'])\n",
    "              track_uri.append(item['uri'])\n",
    "len(track_year)\n"
   ]
  },
  {
   "cell_type": "code",
   "execution_count": null,
   "id": "f0eac753",
   "metadata": {},
   "outputs": [],
   "source": [
    "#print(track_id)"
   ]
  },
  {
   "cell_type": "code",
   "execution_count": null,
   "id": "823b3a0c",
   "metadata": {},
   "outputs": [],
   "source": [
    "#dataset = pd.read_csv(\"/Users/gregwelliver/Desktop/springboard_files/Capstone Two - Music/Data/SpotifyFeatures.csv\")"
   ]
  },
  {
   "cell_type": "code",
   "execution_count": 3,
   "id": "98405393",
   "metadata": {},
   "outputs": [],
   "source": [
    "dataset = pd.read_csv(\"/Users/gregwelliver/Desktop/springboard_files/Capstone Two - Music/Data/AllSongs 2000-2021.csv\")"
   ]
  },
  {
   "cell_type": "code",
   "execution_count": 7,
   "id": "61248448",
   "metadata": {},
   "outputs": [
    {
     "data": {
      "text/plain": [
       "0    3yfqSUWxFvZELEM4PmlwIR\n",
       "1    0I3q5fE6wg7LIfHGngUTnV\n",
       "2    3UmaczJpikHgJFyBTAJVoz\n",
       "3    3Gf5nttwcX9aaSQXRWidEZ\n",
       "4    6glsMWIMIxQ4BedzLqGVi4\n",
       "Name: track_id, dtype: object"
      ]
     },
     "execution_count": 7,
     "metadata": {},
     "output_type": "execute_result"
    }
   ],
   "source": [
    "track_ids = dataset.track_id\n",
    "track_ids.head()"
   ]
  },
  {
   "cell_type": "code",
   "execution_count": null,
   "id": "aa41bc15",
   "metadata": {},
   "outputs": [],
   "source": [
    "AllTracks = pd.DataFrame({\"track_id\":track_id,\n",
    "                   \"track_name\":track_name,\n",
    "                   \"track_year\":track_year,\n",
    "                   \"track_spotify_genre\":track_spotify_genre,\n",
    "                   \"art_name\":artist_name,\n",
    "                   \"art_id\":artist_id,\n",
    "                   \"track_uri\":track_uri,\n",
    "                   \"track_pop\":track_pop,\n",
    "                   })\n",
    "#track_dict = df.to_dict(orient='records')"
   ]
  },
  {
   "cell_type": "code",
   "execution_count": null,
   "id": "3055ef17",
   "metadata": {},
   "outputs": [],
   "source": [
    "AllTracks.head()"
   ]
  },
  {
   "cell_type": "markdown",
   "id": "ba3867c8",
   "metadata": {},
   "source": [
    "#### write to CSV\n",
    "from pathlib import Path  \n",
    "filepath = Path('/Users/gregwelliver/Desktop/springboard_files/Capstone Two - Music/Data/AllSongs 2000-2021.csv')  \n",
    "filepath.parent.mkdir(parents=True, exist_ok=True)  \n",
    "AllTracks.to_csv(filepath)"
   ]
  },
  {
   "cell_type": "code",
   "execution_count": 8,
   "id": "75a92535",
   "metadata": {},
   "outputs": [],
   "source": [
    "AllTracksURIs = dataset.track_uri"
   ]
  },
  {
   "cell_type": "code",
   "execution_count": 10,
   "id": "78d4c9b9",
   "metadata": {},
   "outputs": [],
   "source": [
    "#print(AllTracksURIs)"
   ]
  },
  {
   "cell_type": "code",
   "execution_count": null,
   "id": "1d0d6934",
   "metadata": {},
   "outputs": [],
   "source": [
    "AudioFeatures2 = [sp.audio_features(identifier)[0] for identifier in AllTracksURIs]"
   ]
  },
  {
   "cell_type": "code",
   "execution_count": null,
   "id": "bfb7b1f5",
   "metadata": {},
   "outputs": [],
   "source": [
    "AudioFeatures2[1:10]"
   ]
  },
  {
   "cell_type": "code",
   "execution_count": 11,
   "id": "1f58ba2c",
   "metadata": {},
   "outputs": [],
   "source": [
    "# this gets all audio features for the given track ids\n",
    "for i in range(0,len(track_ids),50):\n",
    "  track_features = sp.audio_features(track_ids[i:i+50]) # returns features of first 50 tracks\n",
    "  for j in range(0,len(track_features)): # iterate over those 50 tracks\n",
    "    if track_features[j] is None:  # if track does not have audio features from spotify\n",
    "      track_features[j] = {}\n",
    "    key.append(track_features[j].get('key', np.nan))\n",
    "    acousticness.append(track_features[j].get('acousticness', np.nan))\n",
    "    danceability.append(track_features[j].get('danceability', np.nan))\n",
    "    duration_ms.append(track_features[j].get('duration_ms', np.nan))\n",
    "    energy.append(track_features[j].get('energy', np.nan))\n",
    "    instrumentalness.append(track_features[j].get('instrumentalness', np.nan))\n",
    "    liveness.append(track_features[j].get('liveness', np.nan))\n",
    "    loudness.append(track_features[j].get('loudness', np.nan))\n",
    "    mode.append(track_features[j].get('mode', np.nan))\n",
    "    speechiness.append(track_features[j].get('speechiness', np.nan))\n",
    "    tempo.append(track_features[j].get('tempo', np.nan))\n",
    "    time_signature.append(track_features[j].get('time_signature', np.nan))\n",
    "    valence.append(track_features[j].get('valence', np.nan))"
   ]
  },
  {
   "cell_type": "code",
   "execution_count": 15,
   "id": "76db48aa",
   "metadata": {},
   "outputs": [
    {
     "name": "stdout",
     "output_type": "stream",
     "text": [
      "[0.701, 0.96, 0.975, 0.442, 0.179, 0.547, 0.963, 0.546, 0.817, 0.225, 0.341, 0.32, 0.65, 0.704, 0.325, 0.745, 0.509, 0.56]\n"
     ]
    }
   ],
   "source": []
  },
  {
   "cell_type": "code",
   "execution_count": 26,
   "id": "e3ce6c3b",
   "metadata": {},
   "outputs": [],
   "source": [
    "AllTracksAudio = pd.DataFrame({\"track_id\":track_ids,\n",
    "                   \"key\":key,\n",
    "                    \"acousticness\":acousticness,\n",
    "                    \"danceability\":danceability,\n",
    "                    \"duration_ms\":duration_ms,\n",
    "                    \"energy\":energy,\n",
    "                    \"instrumentalness\":instrumentalness,\n",
    "                    \"liveness\":liveness,\n",
    "                    \"loudness\":loudness,\n",
    "                    \"mode\":mode,\n",
    "                    \"speechiness\":speechiness,\n",
    "                    \"tempo\":tempo,\n",
    "                    \"time_signature\":time_signature,\n",
    "                    \"valence\":valence,\n",
    "                    })"
   ]
  },
  {
   "cell_type": "code",
   "execution_count": 28,
   "id": "4a176dec",
   "metadata": {
    "scrolled": true
   },
   "outputs": [
    {
     "name": "stdout",
     "output_type": "stream",
     "text": [
      "<class 'pandas.core.frame.DataFrame'>\n",
      "RangeIndex: 315618 entries, 0 to 315617\n",
      "Data columns (total 14 columns):\n",
      " #   Column            Non-Null Count   Dtype  \n",
      "---  ------            --------------   -----  \n",
      " 0   track_id          315618 non-null  object \n",
      " 1   key               315618 non-null  int64  \n",
      " 2   acousticness      315618 non-null  float64\n",
      " 3   danceability      315618 non-null  float64\n",
      " 4   duration_ms       315618 non-null  int64  \n",
      " 5   energy            315618 non-null  float64\n",
      " 6   instrumentalness  315618 non-null  float64\n",
      " 7   liveness          315618 non-null  float64\n",
      " 8   loudness          315618 non-null  float64\n",
      " 9   mode              315618 non-null  int64  \n",
      " 10  speechiness       315618 non-null  float64\n",
      " 11  tempo             315618 non-null  float64\n",
      " 12  time_signature    315618 non-null  int64  \n",
      " 13  valence           315618 non-null  float64\n",
      "dtypes: float64(9), int64(4), object(1)\n",
      "memory usage: 33.7+ MB\n"
     ]
    }
   ],
   "source": [
    "AllTracksAudio.info()"
   ]
  },
  {
   "cell_type": "code",
   "execution_count": 29,
   "id": "784880b2",
   "metadata": {},
   "outputs": [],
   "source": [
    "from pathlib import Path  \n",
    "filepath = Path('/Users/gregwelliver/Desktop/springboard_files/Capstone Two - Music/Data/AllSongsAudioFeatures.csv')  \n",
    "filepath.parent.mkdir(parents=True, exist_ok=True)  \n",
    "AllTracksAudio.to_csv(filepath)"
   ]
  },
  {
   "cell_type": "code",
   "execution_count": 21,
   "id": "42373d94",
   "metadata": {},
   "outputs": [
    {
     "data": {
      "text/plain": [
       "0"
      ]
     },
     "execution_count": 21,
     "metadata": {},
     "output_type": "execute_result"
    }
   ],
   "source": [
    "len(track_year)\n",
    "\"track_year\":track_year,\n",
    "                   \"track_spotify_genre\":track_spotify_genre,\n",
    "                   \"art_name\":artist_name,\n",
    "                   \"art_id\":artist_id,\n",
    "                   \"track_uri\":track_uri,\n",
    "                   \"track_pop\":track_pop,"
   ]
  }
 ],
 "metadata": {
  "kernelspec": {
   "display_name": "Python 3 (ipykernel)",
   "language": "python",
   "name": "python3"
  },
  "language_info": {
   "codemirror_mode": {
    "name": "ipython",
    "version": 3
   },
   "file_extension": ".py",
   "mimetype": "text/x-python",
   "name": "python",
   "nbconvert_exporter": "python",
   "pygments_lexer": "ipython3",
   "version": "3.9.12"
  }
 },
 "nbformat": 4,
 "nbformat_minor": 5
}
