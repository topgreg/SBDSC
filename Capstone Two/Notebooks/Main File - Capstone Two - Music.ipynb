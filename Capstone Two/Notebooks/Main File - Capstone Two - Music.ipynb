{
 "cells": [
  {
   "cell_type": "code",
   "execution_count": 1,
   "id": "31f1ec84",
   "metadata": {},
   "outputs": [],
   "source": [
    "#pip install spotipy"
   ]
  },
  {
   "cell_type": "markdown",
   "id": "c3fb85e2",
   "metadata": {},
   "source": [
    "spotipy documentation\n",
    "https://spotipy.readthedocs.io/en/latest/#installation\n",
    "\n",
    "google sheet with links to top song playlists: https://docs.google.com/spreadsheets/d/10gRoHKIB1RFfxSvb83gzYkV33x5eMMI1RZoXSamFwPI/edit#gid=824975682"
   ]
  },
  {
   "cell_type": "code",
   "execution_count": 2,
   "id": "78164e8b",
   "metadata": {},
   "outputs": [],
   "source": [
    "# Let's import the pandas, numpy libraries as pd, and np respectively. \n",
    "import pandas as pd\n",
    "import numpy as np\n",
    "\n",
    "# Load the pyplot collection of functions from matplotlib, as plt \n",
    "from matplotlib import pyplot as plt\n",
    "\n",
    "import spotipy\n",
    "from spotipy.oauth2 import SpotifyClientCredentials\n",
    "#import sys\n",
    "\n",
    "cid = \"46b572c8231b484e9f657c399496865d\"\n",
    "secret = \"2487927a63be4b899c0b4bbf52895c9c\" \n",
    "\n",
    "client_credentials_manager = SpotifyClientCredentials(client_id=cid, client_secret=secret) \n",
    "sp = spotipy.Spotify(client_credentials_manager=client_credentials_manager)"
   ]
  },
  {
   "cell_type": "code",
   "execution_count": 3,
   "id": "a71f69f4",
   "metadata": {},
   "outputs": [],
   "source": [
    "topLink2021 = \"https://open.spotify.com/playlist/5GhQiRkGuqzpWZSE7OU4Se\"\n",
    "topLink2020 = \"https://open.spotify.com/playlist/2fmTTbBkXi8pewbUvG3CeZ\"\n",
    "topLink2019 = \"https://open.spotify.com/playlist/37i9dQZF1DWVRSukIED0e9\"\n",
    "topLink2018 = \"https://open.spotify.com/playlist/37i9dQZF1DXe2bobNYDtW8\"\n",
    "topLink2017 = \"https://open.spotify.com/playlist/37i9dQZF1DWTE7dVUebpUW\"\n",
    "topLink2016 = \"https://open.spotify.com/playlist/37i9dQZF1DX8XZ6AUo9R4R\"\n",
    "topLink2015 = \"https://open.spotify.com/playlist/37i9dQZF1DX9ukdrXQLJGZ\"\n",
    "topLink2014 = \"https://open.spotify.com/playlist/37i9dQZF1DX0h0QnLkMBl4\"\n",
    "topLink2013 = \"https://open.spotify.com/playlist/37i9dQZF1DX3Sp0P28SIer\"\n",
    "topLink2012 = \"https://open.spotify.com/playlist/37i9dQZF1DX0yEZaMOXna3\"\n",
    "topLink2011 = \"https://open.spotify.com/playlist/37i9dQZF1DXcagnSNtrGuJ\"\n",
    "topLink2010 = \"https://open.spotify.com/playlist/37i9dQZF1DXc6IFF23C9jj\"\n",
    "topLink2009 = \"https://open.spotify.com/playlist/37i9dQZF1DX4UkKv8ED8jp\"\n",
    "topLink2008 = \"https://open.spotify.com/playlist/37i9dQZF1DWYuGZUE4XQXm\"\n",
    "topLink2007 = \"https://open.spotify.com/playlist/37i9dQZF1DX3j9EYdzv2N9\"\n",
    "topLink2006 = \"https://open.spotify.com/playlist/37i9dQZF1DX1vSJnMeoy3V\"\n",
    "topLink2005 = \"https://open.spotify.com/playlist/37i9dQZF1DWWzQTBs5BHX9\"\n",
    "topLink2004 = \"https://open.spotify.com/playlist/37i9dQZF1DWTWdbR13PQYH\"\n",
    "topLink2003 = \"https://open.spotify.com/playlist/37i9dQZF1DXaW8fzPh9b08\"\n",
    "topLink2002 = \"https://open.spotify.com/playlist/37i9dQZF1DX0P7PzzKwEKl\"\n",
    "topLink2001 = \"https://open.spotify.com/playlist/37i9dQZF1DX9Ol4tZWPH6V\"\n",
    "topLink2000 = \"https://open.spotify.com/playlist/37i9dQZF1DWUZv12GM5cFk\"\n",
    "allLinks = [topLink2000, topLink2001, topLink2002, topLink2003, topLink2004, topLink2005, topLink2006, topLink2007, topLink2008, topLink2009, topLink2010, topLink2011, topLink2012, topLink2013, topLink2014, topLink2015, topLink2016, topLink2017, topLink2018, topLink2019, topLink2020, topLink2021]\n",
    "allLinks2 = [\"https://open.spotify.com/playlist/5GhQiRkGuqzpWZSE7OU4Se\", \"https://open.spotify.com/playlist/2fmTTbBkXi8pewbUvG3CeZ\"]\n",
    "allLinks3 = [topLink2018, topLink2019, topLink2020, topLink2021]"
   ]
  },
  {
   "cell_type": "code",
   "execution_count": 4,
   "id": "e3691bf8",
   "metadata": {},
   "outputs": [],
   "source": [
    "#YearDictionary = {\"https://open.spotify.com/playlist/5GhQiRkGuqzpWZSE7OU4Se\": 2021, \"https://open.spotify.com/playlist/2fmTTbBkXi8pewbUvG3CeZ\": 2020, \"https://open.spotify.com/playlist/37i9dQZF1DWVRSukIED0e9\": 2019}\n",
    "YearDictionary = {\"https://open.spotify.com/playlist/5GhQiRkGuqzpWZSE7OU4Se\": 2021, \"https://open.spotify.com/playlist/2fmTTbBkXi8pewbUvG3CeZ\": 2020, \"https://open.spotify.com/playlist/37i9dQZF1DWVRSukIED0e9\": 2019, \"https://open.spotify.com/playlist/37i9dQZF1DXe2bobNYDtW8\": 2018, \"https://open.spotify.com/playlist/37i9dQZF1DWTE7dVUebpUW\": 2017, \"https://open.spotify.com/playlist/37i9dQZF1DX8XZ6AUo9R4R\": 2016, \"https://open.spotify.com/playlist/37i9dQZF1DX9ukdrXQLJGZ\": 2015, \"https://open.spotify.com/playlist/37i9dQZF1DX0h0QnLkMBl4\": 2014, \"https://open.spotify.com/playlist/37i9dQZF1DX3Sp0P28SIer\": 2013, \"https://open.spotify.com/playlist/37i9dQZF1DX0yEZaMOXna3\": 2012, \"https://open.spotify.com/playlist/37i9dQZF1DXcagnSNtrGuJ\": 2011, \"https://open.spotify.com/playlist/37i9dQZF1DXc6IFF23C9jj\": 2010, \"https://open.spotify.com/playlist/37i9dQZF1DX4UkKv8ED8jp\": 2009, \"https://open.spotify.com/playlist/37i9dQZF1DWYuGZUE4XQXm\": 2008, \"https://open.spotify.com/playlist/37i9dQZF1DX3j9EYdzv2N9\": 2007, \"https://open.spotify.com/playlist/37i9dQZF1DX1vSJnMeoy3V\": 2006, \"https://open.spotify.com/playlist/37i9dQZF1DWWzQTBs5BHX9\": 2005, \"https://open.spotify.com/playlist/37i9dQZF1DWTWdbR13PQYH\": 2004, \"https://open.spotify.com/playlist/37i9dQZF1DXaW8fzPh9b08\": 2003, \"https://open.spotify.com/playlist/37i9dQZF1DX0P7PzzKwEKl\": 2002, \"https://open.spotify.com/playlist/37i9dQZF1DX9Ol4tZWPH6V\": 2001, \"https://open.spotify.com/playlist/37i9dQZF1DWUZv12GM5cFk\": 2000}"
   ]
  },
  {
   "cell_type": "code",
   "execution_count": 5,
   "id": "c5d01576",
   "metadata": {},
   "outputs": [],
   "source": [
    "#charts = pd.read_csv(\"/Users/gregwelliver/Desktop/springboard_files/Capstone Two - Music/Data/charts.csv\")"
   ]
  },
  {
   "cell_type": "code",
   "execution_count": 7,
   "id": "a273ee23",
   "metadata": {
    "scrolled": true
   },
   "outputs": [],
   "source": [
    "# function to get information on top tracks, passing in the playlist URI\n",
    "# QUESTION: is there a way to return this data without having to append them in these different lists?\n",
    "\n",
    "track_names = []\n",
    "track_ids = []\n",
    "track_uris = []\n",
    "artist_names = []\n",
    "album_release_dates = []\n",
    "track_years = []\n",
    "popular_years = []\n",
    "\n",
    "def tophitsyear(url):\n",
    "    for track in sp.playlist_tracks(url)[\"items\"]:\n",
    "        track_name = track[\"track\"][\"name\"]\n",
    "        track_names.append(track_name)\n",
    "        track_id = track[\"track\"][\"id\"]\n",
    "        track_ids.append(track_id)\n",
    "        track_uri = track[\"track\"][\"uri\"]\n",
    "        track_uris.append(track_uri)\n",
    "        #artist_name = track[\"track\"][\"artists\"] # too difficult to get\n",
    "        #artist_names.append(artist_name)\n",
    "        album_release_date = track[\"track\"][\"album\"][\"release_date\"]\n",
    "        album_release_dates.append(album_release_date)\n",
    "        track_year = track[\"track\"][\"album\"][\"release_date\"].split(\"-\")[0]\n",
    "        track_years.append(track_year)\n",
    "        popular_year = YearDictionary[(url)]\n",
    "        popular_years.append(popular_year)\n",
    "        #print(popular_year)\n",
    "        #track_years.append(track_year)\n",
    "        #print(track_name, track_id, track_uri)\n",
    "        #return track_name, track_id, track_uri\n",
    "    #return track_names, track_ids, track_years, popular_year\n",
    "    #return track_name, track_id, track_uri, album_release_date, popular_year\n",
    "\n",
    "#tophitsyear(allLinks2)\n",
    "#empty_list = pd.DataFrame(empty_list)\n",
    "#print(popular_years)"
   ]
  },
  {
   "cell_type": "markdown",
   "id": "e8504deb",
   "metadata": {},
   "source": [
    "from Frank:\n",
    "\n",
    "_tracks = sp.playlist_tracks(playlist_URI)['items']\n",
    "\n",
    "track_names = [ track['track']['name'] for track in _tracks ]"
   ]
  },
  {
   "cell_type": "code",
   "execution_count": 9,
   "id": "05b1f157",
   "metadata": {},
   "outputs": [
    {
     "data": {
      "text/plain": [
       "2200"
      ]
     },
     "execution_count": 9,
     "metadata": {},
     "output_type": "execute_result"
    }
   ],
   "source": [
    "#use list comprehension with function\n",
    "final_list1 = [tophitsyear(url) for url in allLinks]\n",
    "#final_list2 = pd.DataFrame(final_list1)\n",
    "\n",
    "#final_list2 = pd.DataFrame(final_list1)\n",
    "#final_list2.head()\n",
    "#print(final_list1)\n",
    "len(track_names)\n",
    "#print(track_names)"
   ]
  },
  {
   "cell_type": "code",
   "execution_count": 16,
   "id": "ce52c211",
   "metadata": {
    "scrolled": false
   },
   "outputs": [
    {
     "data": {
      "text/plain": [
       "(2200, 6)"
      ]
     },
     "execution_count": 16,
     "metadata": {},
     "output_type": "execute_result"
    }
   ],
   "source": [
    "df = pd.DataFrame(list(zip(track_uris, track_ids, track_names, album_release_dates, track_years, popular_years)), columns=['track_uri', 'track_id', 'track_name', 'album_release_date', 'track_year', 'popular_year'])\n",
    "#df.head(205)\n",
    "df.shape"
   ]
  },
  {
   "cell_type": "code",
   "execution_count": null,
   "id": "ce9299f5",
   "metadata": {},
   "outputs": [],
   "source": []
  },
  {
   "cell_type": "markdown",
   "id": "bccaf9ba",
   "metadata": {},
   "source": [
    "#### write to CSV\n",
    "from pathlib import Path  \n",
    "filepath = Path('/Users/gregwelliver/Desktop/springboard_files/Capstone Two - Music/Data/AllCharts 2000-2021.csv')  \n",
    "filepath.parent.mkdir(parents=True, exist_ok=True)  \n",
    "df.to_csv(filepath)"
   ]
  }
 ],
 "metadata": {
  "kernelspec": {
   "display_name": "Python 3 (ipykernel)",
   "language": "python",
   "name": "python3"
  },
  "language_info": {
   "codemirror_mode": {
    "name": "ipython",
    "version": 3
   },
   "file_extension": ".py",
   "mimetype": "text/x-python",
   "name": "python",
   "nbconvert_exporter": "python",
   "pygments_lexer": "ipython3",
   "version": "3.9.12"
  }
 },
 "nbformat": 4,
 "nbformat_minor": 5
}
