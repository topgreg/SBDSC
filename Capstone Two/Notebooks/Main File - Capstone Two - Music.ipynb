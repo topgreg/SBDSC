{
 "cells": [
  {
   "cell_type": "markdown",
   "id": "9017bfdd",
   "metadata": {},
   "source": [
    "#pip install spotipy"
   ]
  },
  {
   "cell_type": "markdown",
   "id": "d105559d",
   "metadata": {},
   "source": [
    "spotipy documentation\n",
    "https://spotipy.readthedocs.io/en/latest/#installation\n",
    "\n",
    "google sheet with links to top song playlists: https://docs.google.com/spreadsheets/d/10gRoHKIB1RFfxSvb83gzYkV33x5eMMI1RZoXSamFwPI/edit#gid=824975682\n",
    "\n",
    "github for project that I referenced to pull data: https://github.com/ekatnic/SpotifyApiExploration/blob/master/Spotify_Generate_Tracks.ipynb\n",
    "\n",
    "\n",
    "\n",
    "\n"
   ]
  },
  {
   "cell_type": "code",
   "execution_count": 2,
   "id": "ba529c28",
   "metadata": {},
   "outputs": [],
   "source": [
    "# Let's import the pandas, numpy libraries as pd, and np respectively. \n",
    "import pandas as pd\n",
    "import numpy as np\n",
    "\n",
    "# Load the pyplot collection of functions from matplotlib, as plt \n",
    "from matplotlib import pyplot as plt\n",
    "\n",
    "import spotipy\n",
    "from spotipy.oauth2 import SpotifyClientCredentials\n",
    "#import sys\n",
    "\n",
    "credentials = []\n",
    "f = open('credentials.txt', 'r')\n",
    "for line in f:\n",
    "    #add line to credentials list (remove trailing whitespace characters)\n",
    "    credentials.append(line.rstrip())\n",
    "\n",
    "# create Spotify object with credentials\n",
    "client_credentials_manager = SpotifyClientCredentials(credentials[0], credentials[1])\n",
    "sp = spotipy.Spotify(client_credentials_manager=client_credentials_manager)"
   ]
  },
  {
   "cell_type": "code",
   "execution_count": null,
   "id": "2cc3fa88",
   "metadata": {},
   "outputs": [],
   "source": [
    "topLink2021 = \"https://open.spotify.com/playlist/5GhQiRkGuqzpWZSE7OU4Se\"\n",
    "topLink2020 = \"https://open.spotify.com/playlist/2fmTTbBkXi8pewbUvG3CeZ\"\n",
    "topLink2019 = \"https://open.spotify.com/playlist/37i9dQZF1DWVRSukIED0e9\"\n",
    "topLink2018 = \"https://open.spotify.com/playlist/37i9dQZF1DXe2bobNYDtW8\"\n",
    "topLink2017 = \"https://open.spotify.com/playlist/37i9dQZF1DWTE7dVUebpUW\"\n",
    "topLink2016 = \"https://open.spotify.com/playlist/37i9dQZF1DX8XZ6AUo9R4R\"\n",
    "topLink2015 = \"https://open.spotify.com/playlist/37i9dQZF1DX9ukdrXQLJGZ\"\n",
    "topLink2014 = \"https://open.spotify.com/playlist/37i9dQZF1DX0h0QnLkMBl4\"\n",
    "topLink2013 = \"https://open.spotify.com/playlist/37i9dQZF1DX3Sp0P28SIer\"\n",
    "topLink2012 = \"https://open.spotify.com/playlist/37i9dQZF1DX0yEZaMOXna3\"\n",
    "topLink2011 = \"https://open.spotify.com/playlist/37i9dQZF1DXcagnSNtrGuJ\"\n",
    "topLink2010 = \"https://open.spotify.com/playlist/37i9dQZF1DXc6IFF23C9jj\"\n",
    "topLink2009 = \"https://open.spotify.com/playlist/37i9dQZF1DX4UkKv8ED8jp\"\n",
    "topLink2008 = \"https://open.spotify.com/playlist/37i9dQZF1DWYuGZUE4XQXm\"\n",
    "topLink2007 = \"https://open.spotify.com/playlist/37i9dQZF1DX3j9EYdzv2N9\"\n",
    "topLink2006 = \"https://open.spotify.com/playlist/37i9dQZF1DX1vSJnMeoy3V\"\n",
    "topLink2005 = \"https://open.spotify.com/playlist/37i9dQZF1DWWzQTBs5BHX9\"\n",
    "topLink2004 = \"https://open.spotify.com/playlist/37i9dQZF1DWTWdbR13PQYH\"\n",
    "topLink2003 = \"https://open.spotify.com/playlist/37i9dQZF1DXaW8fzPh9b08\"\n",
    "topLink2002 = \"https://open.spotify.com/playlist/37i9dQZF1DX0P7PzzKwEKl\"\n",
    "topLink2001 = \"https://open.spotify.com/playlist/37i9dQZF1DX9Ol4tZWPH6V\"\n",
    "topLink2000 = \"https://open.spotify.com/playlist/37i9dQZF1DWUZv12GM5cFk\"\n",
    "allLinks = [topLink2000, topLink2001, topLink2002, topLink2003, topLink2004, topLink2005, topLink2006, topLink2007, topLink2008, topLink2009, topLink2010, topLink2011, topLink2012, topLink2013, topLink2014, topLink2015, topLink2016, topLink2017, topLink2018, topLink2019, topLink2020, topLink2021]\n",
    "allLinks2 = [\"https://open.spotify.com/playlist/5GhQiRkGuqzpWZSE7OU4Se\", \"https://open.spotify.com/playlist/2fmTTbBkXi8pewbUvG3CeZ\"]\n",
    "allLinks3 = [topLink2018, topLink2019, topLink2020, topLink2021]"
   ]
  },
  {
   "cell_type": "code",
   "execution_count": null,
   "id": "cc0c1170",
   "metadata": {},
   "outputs": [],
   "source": [
    "#YearDictionary = {\"https://open.spotify.com/playlist/5GhQiRkGuqzpWZSE7OU4Se\": 2021, \"https://open.spotify.com/playlist/2fmTTbBkXi8pewbUvG3CeZ\": 2020, \"https://open.spotify.com/playlist/37i9dQZF1DWVRSukIED0e9\": 2019}\n",
    "YearDictionary = {\"https://open.spotify.com/playlist/5GhQiRkGuqzpWZSE7OU4Se\": 2021, \"https://open.spotify.com/playlist/2fmTTbBkXi8pewbUvG3CeZ\": 2020, \"https://open.spotify.com/playlist/37i9dQZF1DWVRSukIED0e9\": 2019, \"https://open.spotify.com/playlist/37i9dQZF1DXe2bobNYDtW8\": 2018, \"https://open.spotify.com/playlist/37i9dQZF1DWTE7dVUebpUW\": 2017, \"https://open.spotify.com/playlist/37i9dQZF1DX8XZ6AUo9R4R\": 2016, \"https://open.spotify.com/playlist/37i9dQZF1DX9ukdrXQLJGZ\": 2015, \"https://open.spotify.com/playlist/37i9dQZF1DX0h0QnLkMBl4\": 2014, \"https://open.spotify.com/playlist/37i9dQZF1DX3Sp0P28SIer\": 2013, \"https://open.spotify.com/playlist/37i9dQZF1DX0yEZaMOXna3\": 2012, \"https://open.spotify.com/playlist/37i9dQZF1DXcagnSNtrGuJ\": 2011, \"https://open.spotify.com/playlist/37i9dQZF1DXc6IFF23C9jj\": 2010, \"https://open.spotify.com/playlist/37i9dQZF1DX4UkKv8ED8jp\": 2009, \"https://open.spotify.com/playlist/37i9dQZF1DWYuGZUE4XQXm\": 2008, \"https://open.spotify.com/playlist/37i9dQZF1DX3j9EYdzv2N9\": 2007, \"https://open.spotify.com/playlist/37i9dQZF1DX1vSJnMeoy3V\": 2006, \"https://open.spotify.com/playlist/37i9dQZF1DWWzQTBs5BHX9\": 2005, \"https://open.spotify.com/playlist/37i9dQZF1DWTWdbR13PQYH\": 2004, \"https://open.spotify.com/playlist/37i9dQZF1DXaW8fzPh9b08\": 2003, \"https://open.spotify.com/playlist/37i9dQZF1DX0P7PzzKwEKl\": 2002, \"https://open.spotify.com/playlist/37i9dQZF1DX9Ol4tZWPH6V\": 2001, \"https://open.spotify.com/playlist/37i9dQZF1DWUZv12GM5cFk\": 2000}"
   ]
  },
  {
   "cell_type": "code",
   "execution_count": null,
   "id": "a3c0b936",
   "metadata": {},
   "outputs": [],
   "source": [
    "#charts = pd.read_csv(\"/Users/gregwelliver/Desktop/springboard_files/Capstone Two - Music/Data/charts.csv\")"
   ]
  },
  {
   "cell_type": "markdown",
   "id": "a53861a8",
   "metadata": {},
   "source": [
    "### WORKING CODE, MARKDOWN FOR NOW\n",
    "# function to get information on top tracks, passing in the playlist URI\n",
    "# QUESTION: is there a way to return this data without having to append them in these different lists?\n",
    "\n",
    "track_names = []\n",
    "track_ids = []\n",
    "track_uris = []\n",
    "artist_names = []\n",
    "album_release_dates = []\n",
    "track_years = []\n",
    "popular_years = []\n",
    "\n",
    "def tophitsyear(url):\n",
    "    for track in sp.playlist_tracks(url)[\"items\"]:\n",
    "        track_name = track[\"track\"][\"name\"]\n",
    "        track_names.append(track_name)\n",
    "        track_id = track[\"track\"][\"id\"]\n",
    "        track_ids.append(track_id)\n",
    "        track_uri = track[\"track\"][\"uri\"]\n",
    "        track_uris.append(track_uri)\n",
    "        #artist_name = track[\"track\"][\"artists\"] # too difficult to get\n",
    "        #artist_names.append(artist_name)\n",
    "        album_release_date = track[\"track\"][\"album\"][\"release_date\"]\n",
    "        album_release_dates.append(album_release_date)\n",
    "        track_year = track[\"track\"][\"album\"][\"release_date\"].split(\"-\")[0]\n",
    "        track_years.append(track_year)\n",
    "        popular_year = YearDictionary[(url)]\n",
    "        popular_years.append(popular_year)\n",
    "        #print(popular_year)\n",
    "        #track_years.append(track_year)\n",
    "        #print(track_name, track_id, track_uri)\n",
    "        #return track_name, track_id, track_uri\n",
    "    #return track_names, track_ids, track_years, popular_year\n",
    "    #return track_name, track_id, track_uri, album_release_date, popular_year\n",
    "\n",
    "#tophitsyear(allLinks2)\n",
    "#empty_list = pd.DataFrame(empty_list)\n",
    "#print(popular_years)"
   ]
  },
  {
   "cell_type": "markdown",
   "id": "c1b51e50",
   "metadata": {},
   "source": [
    "### WORKING CODE, MARKDOWN FOR NOW\n",
    "#use list comprehension with function\n",
    "final_list1 = [tophitsyear(url) for url in allLinks]\n",
    "#final_list2 = pd.DataFrame(final_list1)\n",
    "\n",
    "#final_list2 = pd.DataFrame(final_list1)\n",
    "#final_list2.head()\n",
    "print(final_list1)\n",
    "#len(track_names)\n",
    "#print(track_names)"
   ]
  },
  {
   "cell_type": "markdown",
   "id": "fb21ec98",
   "metadata": {
    "scrolled": false
   },
   "source": [
    "### WORKING CODE, MARKDOWN FOR NOW\n",
    "df = pd.DataFrame(list(zip(track_uris, track_ids, track_names, album_release_dates, track_years, popular_years)), columns=['track_uri', 'track_id', 'track_name', 'album_release_date', 'track_year', 'popular_year'])\n",
    "df.head()\n",
    "#df.shape"
   ]
  },
  {
   "cell_type": "markdown",
   "id": "3d3b1f68",
   "metadata": {},
   "source": [
    "### WORKING CODE, MARKDOWN FOR NOW\n",
    "track_uris2 = df['track_uri']\n",
    "identifier_list = track_uris2.values.tolist()\n",
    "print(identifier_list)"
   ]
  },
  {
   "cell_type": "markdown",
   "id": "8357fd0d",
   "metadata": {
    "scrolled": true
   },
   "source": [
    "### WORKING CODE, MARKDOWN FOR NOW\n",
    "AudioFeatures2 = [sp.audio_features(identifier)[0] for identifier in track_uris2]\n",
    "print(AudioFeatures2)"
   ]
  },
  {
   "cell_type": "markdown",
   "id": "7c8ea655",
   "metadata": {},
   "source": [
    "### WORKING CODE, MARKDOWN FOR NOW\n",
    "AudioFeatures2[1:10]"
   ]
  },
  {
   "cell_type": "markdown",
   "id": "1382c790",
   "metadata": {},
   "source": [
    "### WORKING CODE, MARKDOWN FOR NOW\n",
    "# THIS ONE WORKED\n",
    "df5 = pd.json_normalize(AudioFeatures2)\n",
    "print(df5)"
   ]
  },
  {
   "cell_type": "markdown",
   "id": "a43a679a",
   "metadata": {},
   "source": [
    "### steps below were to get all song audio features for years 2000-2021"
   ]
  },
  {
   "cell_type": "markdown",
   "id": "deeb077c",
   "metadata": {},
   "source": [
    "### WORKING CODE, MARKDOWN FOR NOW\n",
    "# Initializing lists for basic track details\n",
    "artist_name = []\n",
    "artist_id = []\n",
    "album_name = []\n",
    "album_id = []\n",
    "track_name = []\n",
    "track_id = []\n",
    "track_pop = []\n",
    "track_year = []\n",
    "track_spotify_genre = []\n",
    "track_uri = []\n",
    "\n",
    "# Initiating lists for track audio features\n",
    "key = []\n",
    "acousticness = []\n",
    "danceability = []\n",
    "duration_ms = []\n",
    "energy = []\n",
    "instrumentalness = []\n",
    "liveness = []\n",
    "loudness = []\n",
    "mode = []\n",
    "speechiness = []\n",
    "tempo = []\n",
    "time_signature = []\n",
    "valence = []\n",
    "\n",
    "# Initializing genre\n",
    "artist_genre = []"
   ]
  },
  {
   "cell_type": "markdown",
   "id": "814453eb",
   "metadata": {},
   "source": [
    "### WORKING CODE, MARKDOWN FOR NOW\n",
    "# Get collection of song ids and basic track details - 50 tracks per. I had to run two years at a time to prevent it from timing out \n",
    "for genre in ['hip-hop', 'house','indie','pop','r&b','rock', 'soundtrack', 'jazz', 'classical', 'country', 'dance', 'alternative', 'movie', 'world', 'blues']:\n",
    "  for year in range(2020,2022): \n",
    "      query = \"genre:\" + genre + \" year:\" + str(year)\n",
    "      for i in range(0,1000,50):\n",
    "          track_results = sp.search(q=query, type='track', limit=50, offset=i) # change 'q=' argument for year\n",
    "          for item in track_results['tracks']['items']:\n",
    "              artist_name.append(item['album']['artists'][0]['name'])\n",
    "              artist_id.append(item['album']['artists'][0]['id'])\n",
    "              track_name.append(item['name'])\n",
    "              track_id.append(item['id'])\n",
    "              track_pop.append(item['popularity'])\n",
    "              track_year.append(year)\n",
    "              track_spotify_genre.append(genre)\n",
    "              #album_name.append(item['album']['name'])\n",
    "              #album_id.append(item['album']['id'])\n",
    "              track_uri.append(item['uri'])\n",
    "\n",
    "len(artist_name)"
   ]
  },
  {
   "cell_type": "code",
   "execution_count": null,
   "id": "1c3bea7f",
   "metadata": {},
   "outputs": [],
   "source": [
    "#dataset = pd.read_csv(\"/Users/gregwelliver/Desktop/springboard_files/Capstone Two - Music/Data/AllSongs 2000-2021.csv\")"
   ]
  },
  {
   "cell_type": "markdown",
   "id": "8f26e618",
   "metadata": {},
   "source": [
    "### WORKING CODE, MARKDOWN FOR NOW\n",
    "track_ids = dataset.track_id\n",
    "track_ids.head()"
   ]
  },
  {
   "cell_type": "markdown",
   "id": "74cc7bb0",
   "metadata": {},
   "source": [
    "### WORKING CODE, MARKDOWN FOR NOW\n",
    "# this gets all audio features for the given track ids\n",
    "for i in range(0,len(track_ids),50):\n",
    "  track_features = sp.audio_features(track_ids[i:i+50]) # returns features of first 50 tracks\n",
    "  for j in range(0,len(track_features)): # iterate over those 50 tracks\n",
    "    if track_features[j] is None:  # if track does not have audio features from spotify\n",
    "      track_features[j] = {}\n",
    "    key.append(track_features[j].get('key', np.nan))\n",
    "    acousticness.append(track_features[j].get('acousticness', np.nan))\n",
    "    danceability.append(track_features[j].get('danceability', np.nan))\n",
    "    duration_ms.append(track_features[j].get('duration_ms', np.nan))\n",
    "    energy.append(track_features[j].get('energy', np.nan))\n",
    "    instrumentalness.append(track_features[j].get('instrumentalness', np.nan))\n",
    "    liveness.append(track_features[j].get('liveness', np.nan))\n",
    "    loudness.append(track_features[j].get('loudness', np.nan))\n",
    "    mode.append(track_features[j].get('mode', np.nan))\n",
    "    speechiness.append(track_features[j].get('speechiness', np.nan))\n",
    "    tempo.append(track_features[j].get('tempo', np.nan))\n",
    "    time_signature.append(track_features[j].get('time_signature', np.nan))\n",
    "    valence.append(track_features[j].get('valence', np.nan))"
   ]
  },
  {
   "cell_type": "markdown",
   "id": "b1c914ce",
   "metadata": {},
   "source": [
    "WORKING CODE, MARKDOWN FOR NOW\n",
    "this gets all the second artists on tracks.  I'll use this data to create a \"collaboration\" variable\n",
    "\n",
    "\n",
    "# get second artist on tracks\n",
    "for genre in ['hip-hop', 'house','indie','pop','r&b','rock', 'soundtrack', 'jazz', 'classical', 'country', 'dance', 'alternative', 'movie', 'world', 'blues']:\n",
    "    for year in range(2020,2023): \n",
    "          query = \"genre:\" + genre + \" year:\" + str(year)\n",
    "          for i in range(0,1000,50):\n",
    "              track_results = sp.search(q=query, type='track', limit=50, offset=i) # change 'q=' argument for year\n",
    "              for item in track_results['tracks']['items']:\n",
    "                    try:\n",
    "                        second_artist_name.append(item['album']['artists'][1]['name'])\n",
    "                        track_id.append(item['id'])\n",
    "                        track_uri.append(item['uri'])\n",
    "                    except:\n",
    "                        pass\n",
    "\n"
   ]
  },
  {
   "cell_type": "markdown",
   "id": "d1893a43",
   "metadata": {},
   "source": [
    "### WORKING CODE, MARKDOWN FOR NOW\n",
    "# create dataframe of audio features\n",
    "AllTracksAudio = pd.DataFrame({\"track_id\":track_ids,\n",
    "                   \"key\":key,\n",
    "                    \"acousticness\":acousticness,\n",
    "                    \"danceability\":danceability,\n",
    "                    \"duration_ms\":duration_ms,\n",
    "                    \"energy\":energy,\n",
    "                    \"instrumentalness\":instrumentalness,\n",
    "                    \"liveness\":liveness,\n",
    "                    \"loudness\":loudness,\n",
    "                    \"mode\":mode,\n",
    "                    \"speechiness\":speechiness,\n",
    "                    \"tempo\":tempo,\n",
    "                    \"time_signature\":time_signature,\n",
    "                    \"valence\":valence,\n",
    "                    })"
   ]
  },
  {
   "cell_type": "markdown",
   "id": "1bf5e1f7",
   "metadata": {},
   "source": [
    "from pathlib import Path  \n",
    "filepath = Path('/Users/gregwelliver/Desktop/springboard_files/Capstone Two - Music/Data/AllSongsAudioFeatures.csv')  \n",
    "filepath.parent.mkdir(parents=True, exist_ok=True)  \n",
    "AllTracksAudio.to_csv(filepath)"
   ]
  },
  {
   "cell_type": "markdown",
   "id": "8b817c36",
   "metadata": {},
   "source": [
    "## Last step - combining the data\n",
    "\n",
    "At this point, I now have data collected, but disperesed among different files.\n",
    "\n",
    "- AllSongsAudioFeatures.csv: songs with all audio features from 2000-2021. contains audio features on 315,618 songs. I will use this as the primary file to merge data into.\n",
    "- AllSongs.csv: high-level informational data (track_name, artist_name, track_genre, popularity) on 315,618 songs\n",
    "- AllCharts 2000-2021.csv: all of the Top 100 songs in each year from 2000-2021\n",
    "- SecondArtists.csv: second artists on tracks from 2000-2021\n"
   ]
  },
  {
   "cell_type": "code",
   "execution_count": 13,
   "id": "bb3f53f1",
   "metadata": {},
   "outputs": [],
   "source": [
    "AllSongsAudioFeatures = pd.read_csv(\"/Users/gregwelliver/Desktop/springboard_files/Capstone Two - Music/Data/AllSongsAudioFeatures.csv\")"
   ]
  },
  {
   "cell_type": "code",
   "execution_count": 14,
   "id": "227cda23",
   "metadata": {},
   "outputs": [],
   "source": [
    "AllSongs = pd.read_csv(\"/Users/gregwelliver/Desktop/springboard_files/Capstone Two - Music/Data/AllSongs 2000-2021.csv\")"
   ]
  },
  {
   "cell_type": "code",
   "execution_count": 15,
   "id": "b3dee75f",
   "metadata": {},
   "outputs": [],
   "source": [
    "AllCharts = pd.read_csv(\"/Users/gregwelliver/Desktop/springboard_files/Capstone Two - Music/Data/AllCharts 2000-2021.csv\")"
   ]
  },
  {
   "cell_type": "code",
   "execution_count": 16,
   "id": "9f88decc",
   "metadata": {},
   "outputs": [],
   "source": [
    "SecondArtists = pd.read_csv(\"/Users/gregwelliver/Desktop/springboard_files/Capstone Two - Music/Data/SecondArtists.csv\")"
   ]
  },
  {
   "cell_type": "code",
   "execution_count": 17,
   "id": "41d0dd2c",
   "metadata": {},
   "outputs": [
    {
     "data": {
      "text/html": [
       "<div>\n",
       "<style scoped>\n",
       "    .dataframe tbody tr th:only-of-type {\n",
       "        vertical-align: middle;\n",
       "    }\n",
       "\n",
       "    .dataframe tbody tr th {\n",
       "        vertical-align: top;\n",
       "    }\n",
       "\n",
       "    .dataframe thead th {\n",
       "        text-align: right;\n",
       "    }\n",
       "</style>\n",
       "<table border=\"1\" class=\"dataframe\">\n",
       "  <thead>\n",
       "    <tr style=\"text-align: right;\">\n",
       "      <th></th>\n",
       "      <th>Unnamed: 0</th>\n",
       "      <th>track_id</th>\n",
       "      <th>artist_name</th>\n",
       "    </tr>\n",
       "  </thead>\n",
       "  <tbody>\n",
       "    <tr>\n",
       "      <th>0</th>\n",
       "      <td>0</td>\n",
       "      <td>0mXMr1OVZZKYmOinBaofOp</td>\n",
       "      <td>Three 6 Mafia</td>\n",
       "    </tr>\n",
       "    <tr>\n",
       "      <th>1</th>\n",
       "      <td>1</td>\n",
       "      <td>74iebSWsEaHSGdCE8PKKlF</td>\n",
       "      <td>Three 6 Mafia</td>\n",
       "    </tr>\n",
       "    <tr>\n",
       "      <th>2</th>\n",
       "      <td>2</td>\n",
       "      <td>2q4uKm1TZ6mcNktEUfeUN8</td>\n",
       "      <td>Mr. Knightowl</td>\n",
       "    </tr>\n",
       "    <tr>\n",
       "      <th>3</th>\n",
       "      <td>3</td>\n",
       "      <td>23m1xslbkYGR0bL7LGyrqX</td>\n",
       "      <td>Three 6 Mafia</td>\n",
       "    </tr>\n",
       "    <tr>\n",
       "      <th>4</th>\n",
       "      <td>4</td>\n",
       "      <td>0hDRkyeMIQ5ZrKCeLS7EJZ</td>\n",
       "      <td>Three 6 Mafia</td>\n",
       "    </tr>\n",
       "  </tbody>\n",
       "</table>\n",
       "</div>"
      ],
      "text/plain": [
       "   Unnamed: 0                track_id    artist_name\n",
       "0           0  0mXMr1OVZZKYmOinBaofOp  Three 6 Mafia\n",
       "1           1  74iebSWsEaHSGdCE8PKKlF  Three 6 Mafia\n",
       "2           2  2q4uKm1TZ6mcNktEUfeUN8  Mr. Knightowl\n",
       "3           3  23m1xslbkYGR0bL7LGyrqX  Three 6 Mafia\n",
       "4           4  0hDRkyeMIQ5ZrKCeLS7EJZ  Three 6 Mafia"
      ]
     },
     "execution_count": 17,
     "metadata": {},
     "output_type": "execute_result"
    }
   ],
   "source": [
    "SecondArtists.head()"
   ]
  },
  {
   "cell_type": "code",
   "execution_count": null,
   "id": "66a54f5c",
   "metadata": {},
   "outputs": [],
   "source": [
    "# use track_id to merge data"
   ]
  },
  {
   "cell_type": "markdown",
   "id": "81bbc376",
   "metadata": {},
   "source": [
    "all songs audio has track_id, but doesn't have artist name, song name"
   ]
  },
  {
   "cell_type": "code",
   "execution_count": null,
   "id": "ed8fb754",
   "metadata": {},
   "outputs": [],
   "source": []
  },
  {
   "cell_type": "code",
   "execution_count": null,
   "id": "abe73bd5",
   "metadata": {},
   "outputs": [],
   "source": []
  },
  {
   "cell_type": "code",
   "execution_count": null,
   "id": "9a8af9ba",
   "metadata": {},
   "outputs": [],
   "source": []
  },
  {
   "cell_type": "code",
   "execution_count": null,
   "id": "0553cb56",
   "metadata": {},
   "outputs": [],
   "source": [
    "#AudioFeatures3 = pd.DataFrame(AudioFeatures2)"
   ]
  },
  {
   "cell_type": "markdown",
   "id": "a4e7bc73",
   "metadata": {},
   "source": [
    "from pathlib import Path\n",
    "filepath = Path('/Users/gregwelliver/Desktop/springboard_files/Capstone Two - Music/Data/AllCharts 2000-2021 with Audio Features.csv')\n",
    "filepath.parent.mkdir(parents=True, exist_ok=True)\n",
    "df5.to_csv(filepath)"
   ]
  },
  {
   "cell_type": "markdown",
   "id": "e92324f3",
   "metadata": {},
   "source": [
    "sp.audio_features('spotify:track:6naxalmIoLFWR0siv8dnQQ')[0]"
   ]
  },
  {
   "cell_type": "markdown",
   "id": "fa808193",
   "metadata": {},
   "source": [
    "#### write to CSV\n",
    "from pathlib import Path  \n",
    "filepath = Path('/Users/gregwelliver/Desktop/springboard_files/Capstone Two - Music/Data/AllCharts 2000-2021.csv')  \n",
    "filepath.parent.mkdir(parents=True, exist_ok=True)  \n",
    "file.to_csv(filepath)"
   ]
  },
  {
   "cell_type": "code",
   "execution_count": null,
   "id": "5fece89b",
   "metadata": {},
   "outputs": [],
   "source": []
  }
 ],
 "metadata": {
  "kernelspec": {
   "display_name": "Python 3 (ipykernel)",
   "language": "python",
   "name": "python3"
  },
  "language_info": {
   "codemirror_mode": {
    "name": "ipython",
    "version": 3
   },
   "file_extension": ".py",
   "mimetype": "text/x-python",
   "name": "python",
   "nbconvert_exporter": "python",
   "pygments_lexer": "ipython3",
   "version": "3.9.12"
  }
 },
 "nbformat": 4,
 "nbformat_minor": 5
}
