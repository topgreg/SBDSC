{
 "cells": [
  {
   "cell_type": "markdown",
   "id": "d105559d",
   "metadata": {},
   "source": [
    "Project Proposal: https://docs.google.com/document/d/1rRzJV0hOaNMsBIjji8v1Cv8C3QUuZ6lUvYokZ5dif-A/edit\n"
   ]
  },
  {
   "cell_type": "code",
   "execution_count": 1,
   "id": "ba529c28",
   "metadata": {},
   "outputs": [],
   "source": [
    "# Import relevant libraries and packages.\n",
    "import numpy as np \n",
    "import pandas as pd \n",
    "import matplotlib.pyplot as plt \n",
    "import seaborn as sns \n",
    "import statsmodels.api as sm\n",
    "from statsmodels.graphics.api import abline_plot\n",
    "from sklearn.metrics import mean_squared_error, r2_score\n",
    "from sklearn.model_selection import train_test_split\n",
    "from sklearn import linear_model, preprocessing \n",
    "import warnings\n",
    "from scipy import stats\n",
    "\n",
    "import spotipy\n",
    "from spotipy.oauth2 import SpotifyClientCredentials\n",
    "#import sys\n",
    "\n",
    "credentials = []\n",
    "f = open('credentials.txt', 'r')\n",
    "for line in f:\n",
    "    #add line to credentials list (remove trailing whitespace characters)\n",
    "    credentials.append(line.rstrip())\n",
    "\n",
    "# create Spotify object with credentials\n",
    "client_credentials_manager = SpotifyClientCredentials(credentials[0], credentials[1])\n",
    "sp = spotipy.Spotify(client_credentials_manager=client_credentials_manager)"
   ]
  },
  {
   "cell_type": "code",
   "execution_count": 2,
   "id": "a3c0b936",
   "metadata": {},
   "outputs": [],
   "source": [
    "df5 = pd.read_csv(\"/Users/gregwelliver/Desktop/springboard_files/Capstone Two - Music/Data/Merged_Data3.csv\", index_col=[0])"
   ]
  },
  {
   "cell_type": "code",
   "execution_count": 3,
   "id": "b4869451",
   "metadata": {},
   "outputs": [
    {
     "data": {
      "text/plain": [
       "track_id                 0\n",
       "track_name               0\n",
       "track_genre              0\n",
       "artist_name              0\n",
       "track_popularity         0\n",
       "popular_year        253233\n",
       "Top100              253233\n",
       "key                      0\n",
       "acousticness             0\n",
       "danceability             0\n",
       "duration_ms              0\n",
       "energy                   0\n",
       "instrumentalness         0\n",
       "liveness                 0\n",
       "loudness                 0\n",
       "modality                 0\n",
       "speechiness              0\n",
       "tempo                    0\n",
       "time_signature           0\n",
       "valence                  0\n",
       "second_artist       230971\n",
       "artist_country       71786\n",
       "dtype: int64"
      ]
     },
     "execution_count": 3,
     "metadata": {},
     "output_type": "execute_result"
    }
   ],
   "source": [
    "df5.isna().sum()"
   ]
  },
  {
   "cell_type": "markdown",
   "id": "bca0a63d",
   "metadata": {},
   "source": [
    "## EDA"
   ]
  },
  {
   "cell_type": "code",
   "execution_count": 4,
   "id": "0b3f62f5",
   "metadata": {},
   "outputs": [],
   "source": [
    "### QUESTION: when we have a categorical independent variable, is there much EDA that we can do with it?\n",
    "### QUESTION: what do with variables we know are categorical, but python is reading as continuous (e.g. key, modality)"
   ]
  },
  {
   "cell_type": "code",
   "execution_count": 5,
   "id": "033db914",
   "metadata": {},
   "outputs": [],
   "source": [
    "#df4.popular_year = int(df4.popular_year)"
   ]
  },
  {
   "cell_type": "code",
   "execution_count": 6,
   "id": "c00f34a5",
   "metadata": {
    "scrolled": false
   },
   "outputs": [
    {
     "name": "stdout",
     "output_type": "stream",
     "text": [
      "<class 'pandas.core.frame.DataFrame'>\n",
      "Int64Index: 255096 entries, 0 to 355118\n",
      "Data columns (total 22 columns):\n",
      " #   Column            Non-Null Count   Dtype  \n",
      "---  ------            --------------   -----  \n",
      " 0   track_id          255096 non-null  object \n",
      " 1   track_name        255096 non-null  object \n",
      " 2   track_genre       255096 non-null  object \n",
      " 3   artist_name       255096 non-null  object \n",
      " 4   track_popularity  255096 non-null  float64\n",
      " 5   popular_year      1863 non-null    float64\n",
      " 6   Top100            1863 non-null    object \n",
      " 7   key               255096 non-null  float64\n",
      " 8   acousticness      255096 non-null  float64\n",
      " 9   danceability      255096 non-null  float64\n",
      " 10  duration_ms       255096 non-null  float64\n",
      " 11  energy            255096 non-null  float64\n",
      " 12  instrumentalness  255096 non-null  float64\n",
      " 13  liveness          255096 non-null  float64\n",
      " 14  loudness          255096 non-null  float64\n",
      " 15  modality          255096 non-null  float64\n",
      " 16  speechiness       255096 non-null  float64\n",
      " 17  tempo             255096 non-null  float64\n",
      " 18  time_signature    255096 non-null  float64\n",
      " 19  valence           255096 non-null  float64\n",
      " 20  second_artist     24125 non-null   object \n",
      " 21  artist_country    183310 non-null  object \n",
      "dtypes: float64(15), object(7)\n",
      "memory usage: 44.8+ MB\n"
     ]
    }
   ],
   "source": [
    "df5.info()"
   ]
  },
  {
   "cell_type": "code",
   "execution_count": 7,
   "id": "d432fc02",
   "metadata": {},
   "outputs": [
    {
     "name": "stdout",
     "output_type": "stream",
     "text": [
      "<class 'pandas.core.frame.DataFrame'>\n",
      "Int64Index: 255096 entries, 0 to 355118\n",
      "Data columns (total 22 columns):\n",
      " #   Column            Non-Null Count   Dtype  \n",
      "---  ------            --------------   -----  \n",
      " 0   track_id          255096 non-null  object \n",
      " 1   track_name        255096 non-null  object \n",
      " 2   track_genre       255096 non-null  object \n",
      " 3   artist_name       255096 non-null  object \n",
      " 4   track_popularity  255096 non-null  float64\n",
      " 5   popular_year      1863 non-null    float64\n",
      " 6   Top100            1863 non-null    object \n",
      " 7   key               255096 non-null  float64\n",
      " 8   acousticness      255096 non-null  float64\n",
      " 9   danceability      255096 non-null  float64\n",
      " 10  duration_ms       255096 non-null  float64\n",
      " 11  energy            255096 non-null  float64\n",
      " 12  instrumentalness  255096 non-null  float64\n",
      " 13  liveness          255096 non-null  float64\n",
      " 14  loudness          255096 non-null  float64\n",
      " 15  modality          255096 non-null  float64\n",
      " 16  speechiness       255096 non-null  float64\n",
      " 17  tempo             255096 non-null  float64\n",
      " 18  time_signature    255096 non-null  float64\n",
      " 19  valence           255096 non-null  float64\n",
      " 20  second_artist     24125 non-null   object \n",
      " 21  artist_country    183310 non-null  object \n",
      "dtypes: float64(15), object(7)\n",
      "memory usage: 44.8+ MB\n"
     ]
    }
   ],
   "source": [
    "df5.info()"
   ]
  },
  {
   "cell_type": "code",
   "execution_count": 8,
   "id": "a8aa2765",
   "metadata": {},
   "outputs": [],
   "source": [
    "df5['popular_year'] = df5['popular_year'].fillna(0)\n",
    "df5['popular_year'] = df5['popular_year'].astype(int)"
   ]
  },
  {
   "cell_type": "markdown",
   "id": "2b48202b",
   "metadata": {},
   "source": [
    "#### Selection of independent variable:\n",
    "\n",
    "The goal of our model is to determine if a song will place on the Top 100 in a given year.  This is represented byt he Top100 variable. Let's explore the indepdent variable further."
   ]
  },
  {
   "cell_type": "code",
   "execution_count": 9,
   "id": "de4c3ea4",
   "metadata": {},
   "outputs": [
    {
     "ename": "NameError",
     "evalue": "name 'df4' is not defined",
     "output_type": "error",
     "traceback": [
      "\u001b[0;31m---------------------------------------------------------------------------\u001b[0m",
      "\u001b[0;31mNameError\u001b[0m                                 Traceback (most recent call last)",
      "Input \u001b[0;32mIn [9]\u001b[0m, in \u001b[0;36m<cell line: 2>\u001b[0;34m()\u001b[0m\n\u001b[1;32m      1\u001b[0m \u001b[38;5;66;03m# subset of tracks that made top 100\u001b[39;00m\n\u001b[0;32m----> 2\u001b[0m TopSongs \u001b[38;5;241m=\u001b[39m \u001b[43mdf4\u001b[49m[df4[\u001b[38;5;124m'\u001b[39m\u001b[38;5;124mTop100\u001b[39m\u001b[38;5;124m'\u001b[39m] \u001b[38;5;241m==\u001b[39m \u001b[38;5;124m\"\u001b[39m\u001b[38;5;124mY\u001b[39m\u001b[38;5;124m\"\u001b[39m]\n",
      "\u001b[0;31mNameError\u001b[0m: name 'df4' is not defined"
     ]
    }
   ],
   "source": [
    "# subset of tracks that made top 100\n",
    "TopSongs = df4[df4['Top100'] == \"Y\"]"
   ]
  },
  {
   "cell_type": "code",
   "execution_count": null,
   "id": "f12f6280",
   "metadata": {
    "scrolled": true
   },
   "outputs": [],
   "source": [
    "TopSongs.info()"
   ]
  },
  {
   "cell_type": "code",
   "execution_count": null,
   "id": "931dbac1",
   "metadata": {},
   "outputs": [],
   "source": [
    "print(TopSongs[['track_name', 'second_artist']])"
   ]
  },
  {
   "cell_type": "code",
   "execution_count": null,
   "id": "8ff61d18",
   "metadata": {},
   "outputs": [],
   "source": [
    "Artists_Grouped = TopSongs.groupby('artist_name')\n",
    "Artists_Grouped.first()"
   ]
  },
  {
   "cell_type": "code",
   "execution_count": null,
   "id": "5df16259",
   "metadata": {
    "scrolled": true
   },
   "outputs": [],
   "source": [
    "Artists_Grouped = TopSongs.groupby('artist_name').count().track_id.sort_values(ascending=False)\n",
    "#Artists_Grouped = pd.DataFrame(TopSongs.groupby('artist_name').count().track_id.sort_values(ascending=False))\n",
    "Artists_Grouped"
   ]
  },
  {
   "cell_type": "markdown",
   "id": "ac9e0931",
   "metadata": {},
   "source": [
    "#### Let's look at more detail on which artist had the most Top 100 hits - Drake."
   ]
  },
  {
   "cell_type": "code",
   "execution_count": null,
   "id": "a21dfabb",
   "metadata": {
    "scrolled": true
   },
   "outputs": [],
   "source": [
    "DrakeSongs = TopSongs[TopSongs['artist_name'] == \"Drake\"]\n",
    "#DrakeSongs = DrakeSongs.groupby('popular_year').count().artist_name.sort_values(ascending=False)\n",
    "#print(DrakeSongs)\n",
    "DrakeSongs\n"
   ]
  },
  {
   "cell_type": "code",
   "execution_count": null,
   "id": "046fe2d6",
   "metadata": {},
   "outputs": [],
   "source": [
    "#x = DrakeSongs['popular_year']\n",
    "#y = DrakeSongs[]"
   ]
  },
  {
   "cell_type": "code",
   "execution_count": null,
   "id": "2269b7b2",
   "metadata": {},
   "outputs": [],
   "source": [
    "plt.hist(DrakeSongs.popular_year, bins=20)\n",
    "plt.xlabel('year')\n",
    "plt.ylabel('count');"
   ]
  },
  {
   "cell_type": "markdown",
   "id": "c34779b7",
   "metadata": {},
   "source": [
    "2018 was an amazing year for Drake!"
   ]
  },
  {
   "cell_type": "code",
   "execution_count": null,
   "id": "514b994e",
   "metadata": {},
   "outputs": [],
   "source": [
    "sns.countplot(x='popular_year', data=DrakeSongs)\n",
    "plt.xticks(rotation=90);"
   ]
  },
  {
   "cell_type": "code",
   "execution_count": null,
   "id": "fbfc813c",
   "metadata": {},
   "outputs": [],
   "source": [
    "#artist_count = TopSongs.groupby('artist_name').count().track_id.sort_values(ascending=False)\n",
    "#plt.hist(artist_count)"
   ]
  },
  {
   "cell_type": "code",
   "execution_count": null,
   "id": "c6e0d597",
   "metadata": {},
   "outputs": [],
   "source": [
    "Genres_Grouped = TopSongs.groupby('track_genre').count().track_id.sort_values(ascending=False)\n",
    "Genres_Grouped"
   ]
  },
  {
   "cell_type": "markdown",
   "id": "7a0a013f",
   "metadata": {},
   "source": [
    "sns.set_theme(style=\"white\")\n",
    "\n",
    "sns.relplot(x=TopSongs[\"popular_year\"], y=TopSongs[\"track_genre\"], hue=\"origin\", size=\"weight\",\n",
    "            sizes=(40, 400), alpha=.5, palette=\"muted\",\n",
    "            height=6, data=TopSongs)"
   ]
  },
  {
   "cell_type": "code",
   "execution_count": null,
   "id": "78e03da9",
   "metadata": {},
   "outputs": [],
   "source": [
    "sns.set_style('whitegrid')\n",
    "plt.figure(figsize=(10,7))\n",
    "pop_stats = TopSongs.groupby('track_genre').count().track_id.sort_values(ascending=False)\n",
    "sns.barplot(x=pop_stats.index, y=pop_stats)\n",
    ";\n",
    "# QUESTION: how plot this such that \"count\" shows up on the y-axis"
   ]
  },
  {
   "cell_type": "code",
   "execution_count": null,
   "id": "945f2ebc",
   "metadata": {},
   "outputs": [],
   "source": [
    "sns.countplot(x=Genres_Grouped.index, data=Genres_Grouped)\n",
    "plt.xticks(rotation=90);"
   ]
  },
  {
   "cell_type": "code",
   "execution_count": null,
   "id": "d6c16592",
   "metadata": {},
   "outputs": [],
   "source": [
    "TopSongs.head()"
   ]
  },
  {
   "cell_type": "markdown",
   "id": "4f150f4e",
   "metadata": {},
   "source": [
    "#### come back to this one\n",
    "with sns.axes_style('white'):\n",
    "    g = sns.factorplot(\"popular_year\", data=TopSongs, aspect=4.0, kind='count',\n",
    "                       hue='track_genre', order=range(2000, 2021))\n",
    "    g.set_ylabels('Count')"
   ]
  },
  {
   "cell_type": "code",
   "execution_count": null,
   "id": "d106d78b",
   "metadata": {
    "scrolled": true
   },
   "outputs": [],
   "source": [
    "sns.displot(TopSongs, x=\"popular_year\", hue=\"track_genre\");"
   ]
  },
  {
   "cell_type": "code",
   "execution_count": null,
   "id": "85841104",
   "metadata": {
    "scrolled": true
   },
   "outputs": [],
   "source": [
    "sns.displot(TopSongs, x=\"popular_year\", hue=\"track_genre\", multiple=\"stack\", bins=22);"
   ]
  },
  {
   "cell_type": "code",
   "execution_count": null,
   "id": "4886330d",
   "metadata": {},
   "outputs": [],
   "source": [
    "TopSongs.popular_year.value_counts()"
   ]
  },
  {
   "cell_type": "code",
   "execution_count": null,
   "id": "48fd74be",
   "metadata": {},
   "outputs": [],
   "source": [
    "TopSongs.groupby('artist_name').count().track_id.sort_values(ascending=False)"
   ]
  },
  {
   "cell_type": "code",
   "execution_count": null,
   "id": "ce9eeef5",
   "metadata": {},
   "outputs": [],
   "source": [
    "TopSongs.groupby(['artist_name', 'popular_year']).count().track_id.sort_values(ascending=False)"
   ]
  },
  {
   "cell_type": "code",
   "execution_count": null,
   "id": "edadd335",
   "metadata": {},
   "outputs": [],
   "source": [
    "TopSongs.groupby(['artist_name', 'popular_year']).count().track_id.sort_values(ascending=False)"
   ]
  },
  {
   "cell_type": "code",
   "execution_count": null,
   "id": "7a9dfcc8",
   "metadata": {},
   "outputs": [],
   "source": []
  },
  {
   "cell_type": "code",
   "execution_count": null,
   "id": "4982143b",
   "metadata": {},
   "outputs": [],
   "source": []
  },
  {
   "cell_type": "code",
   "execution_count": null,
   "id": "c3c56a0c",
   "metadata": {},
   "outputs": [],
   "source": []
  },
  {
   "cell_type": "code",
   "execution_count": null,
   "id": "02b208f7",
   "metadata": {},
   "outputs": [],
   "source": []
  },
  {
   "cell_type": "code",
   "execution_count": null,
   "id": "a3a6c05f",
   "metadata": {},
   "outputs": [],
   "source": []
  },
  {
   "cell_type": "code",
   "execution_count": null,
   "id": "ff983427",
   "metadata": {},
   "outputs": [],
   "source": []
  },
  {
   "cell_type": "code",
   "execution_count": null,
   "id": "15aec721",
   "metadata": {},
   "outputs": [],
   "source": []
  },
  {
   "cell_type": "code",
   "execution_count": null,
   "id": "c700accf",
   "metadata": {},
   "outputs": [],
   "source": []
  },
  {
   "cell_type": "code",
   "execution_count": null,
   "id": "00d7363f",
   "metadata": {},
   "outputs": [],
   "source": []
  },
  {
   "cell_type": "code",
   "execution_count": null,
   "id": "6961ed7e",
   "metadata": {},
   "outputs": [],
   "source": []
  },
  {
   "cell_type": "code",
   "execution_count": null,
   "id": "9f28f015",
   "metadata": {},
   "outputs": [],
   "source": []
  },
  {
   "cell_type": "code",
   "execution_count": null,
   "id": "4b3b7f6b",
   "metadata": {},
   "outputs": [],
   "source": [
    "df4.corr()"
   ]
  },
  {
   "cell_type": "markdown",
   "id": "739aeba4",
   "metadata": {},
   "source": [
    "### Observations on correlation matrix: \n",
    "there does not appear to be much correlation between the availble variables.  The only variables with a coefficient higher than +_0.5 are:\n",
    " - Energy/Acousticness\n",
    " - Danceability/Valence\n",
    " - Loudness/Accousticness\n",
    " - Energy/Loudness\n",
    " - Acousticness/Loudness\n",
    " - Loudness/Instrumentalness\n",
    " \n",
    " It's worth noting that Loudness is included in four of these pairs (could be a candidate for removal)"
   ]
  },
  {
   "cell_type": "code",
   "execution_count": null,
   "id": "3b2966fa",
   "metadata": {},
   "outputs": [],
   "source": [
    "df4.describe()"
   ]
  },
  {
   "cell_type": "code",
   "execution_count": null,
   "id": "44c56290",
   "metadata": {},
   "outputs": [],
   "source": [
    "#sns.pairplot(df4)"
   ]
  },
  {
   "cell_type": "code",
   "execution_count": null,
   "id": "19479f7d",
   "metadata": {},
   "outputs": [],
   "source": []
  },
  {
   "cell_type": "code",
   "execution_count": null,
   "id": "1a7d1d05",
   "metadata": {},
   "outputs": [],
   "source": [
    "#seaborn.histplot(data, x, y, hue, stat, bins, binwidth, discrete, kde, log_scale)"
   ]
  },
  {
   "cell_type": "markdown",
   "id": "7b516ef8",
   "metadata": {},
   "source": [
    "sns.histplot(df4.key)\n"
   ]
  },
  {
   "cell_type": "markdown",
   "id": "c20722f3",
   "metadata": {},
   "source": [
    "sns.histplot(data=df4.key, x=\"sepal_length\")\n",
    "plt.show()"
   ]
  },
  {
   "cell_type": "code",
   "execution_count": null,
   "id": "597a6be3",
   "metadata": {},
   "outputs": [],
   "source": [
    "df4.hist(figsize=(15,10))\n",
    "plt.subplots_adjust(hspace=0.5)"
   ]
  },
  {
   "cell_type": "code",
   "execution_count": null,
   "id": "cf079fc7",
   "metadata": {},
   "outputs": [],
   "source": [
    "#boxplot_data = pd.DataFrame(df4.drop(columns='duration_ms',inplace=True))\n",
    "#df4.liveness.boxplot(figsize=(15,8))\n",
    "#plt.show()\n",
    "#boxplot_data.head()"
   ]
  },
  {
   "cell_type": "markdown",
   "id": "108f53b7",
   "metadata": {},
   "source": [
    "def\n",
    "for column in df4:\n",
    "    quality_normal = "
   ]
  },
  {
   "cell_type": "markdown",
   "id": "b581804f",
   "metadata": {},
   "source": [
    "column_list = list(df4.columns)"
   ]
  },
  {
   "cell_type": "markdown",
   "id": "76148569",
   "metadata": {},
   "source": [
    "[stats.normaltest(df4[(column)]) for column in column_list]"
   ]
  },
  {
   "cell_type": "markdown",
   "id": "82e9454a",
   "metadata": {},
   "source": [
    "plt.hist(df4.key)\n",
    "plt.xlabel('key')\n",
    "plt.ylabel('count');\n",
    "\n",
    "quality_normal = stats.normaltest(df4.key)\n",
    "print(quality_normal)"
   ]
  },
  {
   "cell_type": "code",
   "execution_count": null,
   "id": "202cca26",
   "metadata": {},
   "outputs": [],
   "source": [
    "stats.normaltest(df4['acousticness'])"
   ]
  },
  {
   "cell_type": "code",
   "execution_count": null,
   "id": "ec4962c7",
   "metadata": {},
   "outputs": [],
   "source": [
    "plt.hist(df4.acousticness)\n",
    "plt.xlabel('acousticness')\n",
    "plt.ylabel('count');\n",
    "\n",
    "quality_normal = stats.normaltest(df4.acousticness)\n",
    "print(quality_normal)"
   ]
  },
  {
   "cell_type": "code",
   "execution_count": null,
   "id": "2c648661",
   "metadata": {},
   "outputs": [],
   "source": [
    "plt.hist(df4.danceability)\n",
    "plt.xlabel('danceability')\n",
    "plt.ylabel('count');\n",
    "\n",
    "quality_normal = stats.normaltest(df4.danceability)\n",
    "print(quality_normal)"
   ]
  },
  {
   "cell_type": "code",
   "execution_count": null,
   "id": "85217a9b",
   "metadata": {},
   "outputs": [],
   "source": [
    "plt.hist(df4.duration_ms)\n",
    "plt.xlabel('duration_ms')\n",
    "plt.ylabel('count');\n",
    "\n",
    "quality_normal = stats.normaltest(df4.duration_ms)\n",
    "print(quality_normal)"
   ]
  },
  {
   "cell_type": "code",
   "execution_count": null,
   "id": "14f1a7f9",
   "metadata": {},
   "outputs": [],
   "source": [
    "plt.hist(df4.energy)\n",
    "plt.xlabel('energy')\n",
    "plt.ylabel('count');\n",
    "\n",
    "quality_normal = stats.normaltest(df4.energy)\n",
    "print(quality_normal)"
   ]
  },
  {
   "cell_type": "code",
   "execution_count": null,
   "id": "f5f642a8",
   "metadata": {},
   "outputs": [],
   "source": [
    "plt.hist(df4.instrumentalness)\n",
    "plt.xlabel('instrumentalness')\n",
    "plt.ylabel('count');\n",
    "\n",
    "quality_normal = stats.normaltest(df4.instrumentalness)\n",
    "print(quality_normal)"
   ]
  },
  {
   "cell_type": "code",
   "execution_count": null,
   "id": "55af582f",
   "metadata": {},
   "outputs": [],
   "source": [
    "plt.hist(df4.liveness)\n",
    "plt.xlabel('liveness')\n",
    "plt.ylabel('count');\n",
    "\n",
    "quality_normal = stats.normaltest(df4.liveness)\n",
    "print(quality_normal)"
   ]
  },
  {
   "cell_type": "code",
   "execution_count": null,
   "id": "5d339d1a",
   "metadata": {},
   "outputs": [],
   "source": [
    "plt.hist(df4.loudness)\n",
    "plt.xlabel('loudness')\n",
    "plt.ylabel('count');\n",
    "\n",
    "quality_normal = stats.normaltest(df4.loudness)\n",
    "print(quality_normal)"
   ]
  },
  {
   "cell_type": "code",
   "execution_count": null,
   "id": "f37b5a2d",
   "metadata": {},
   "outputs": [],
   "source": [
    "plt.hist(df4.modality)\n",
    "plt.xlabel('modality')\n",
    "plt.ylabel('count');\n",
    "\n",
    "quality_normal = stats.normaltest(df4.modality)\n",
    "print(quality_normal)"
   ]
  },
  {
   "cell_type": "code",
   "execution_count": null,
   "id": "8944315f",
   "metadata": {},
   "outputs": [],
   "source": [
    "plt.hist(df4.speechiness)\n",
    "plt.xlabel('speechiness')\n",
    "plt.ylabel('count');\n",
    "\n",
    "quality_normal = stats.normaltest(df4.speechiness)\n",
    "print(quality_normal)"
   ]
  },
  {
   "cell_type": "code",
   "execution_count": null,
   "id": "280ceada",
   "metadata": {},
   "outputs": [],
   "source": [
    "plt.hist(df4.tempo)\n",
    "plt.xlabel('tempo')\n",
    "plt.ylabel('count');\n",
    "\n",
    "quality_normal = stats.normaltest(df4.tempo)\n",
    "print(quality_normal)"
   ]
  },
  {
   "cell_type": "code",
   "execution_count": null,
   "id": "adbda571",
   "metadata": {},
   "outputs": [],
   "source": [
    "plt.hist(df4.time_signature)\n",
    "plt.xlabel('time_signature')\n",
    "plt.ylabel('count');\n",
    "\n",
    "quality_normal = stats.normaltest(df4.time_signature)\n",
    "print(quality_normal)"
   ]
  },
  {
   "cell_type": "code",
   "execution_count": null,
   "id": "324fe1ff",
   "metadata": {},
   "outputs": [],
   "source": [
    "plt.hist(df4.valence)\n",
    "plt.xlabel('valence')\n",
    "plt.ylabel('count');\n",
    "\n",
    "quality_normal = stats.normaltest(df4.valence)\n",
    "print(quality_normal)"
   ]
  },
  {
   "cell_type": "code",
   "execution_count": null,
   "id": "13ecc41a",
   "metadata": {},
   "outputs": [],
   "source": []
  },
  {
   "cell_type": "code",
   "execution_count": null,
   "id": "aa0b36a2",
   "metadata": {},
   "outputs": [],
   "source": []
  },
  {
   "cell_type": "code",
   "execution_count": null,
   "id": "e70de0f4",
   "metadata": {},
   "outputs": [],
   "source": []
  },
  {
   "cell_type": "code",
   "execution_count": null,
   "id": "eb46c01c",
   "metadata": {},
   "outputs": [],
   "source": []
  },
  {
   "cell_type": "code",
   "execution_count": null,
   "id": "ec591510",
   "metadata": {},
   "outputs": [],
   "source": []
  },
  {
   "cell_type": "code",
   "execution_count": null,
   "id": "fe416544",
   "metadata": {},
   "outputs": [],
   "source": []
  },
  {
   "cell_type": "code",
   "execution_count": null,
   "id": "a069f612",
   "metadata": {},
   "outputs": [],
   "source": []
  },
  {
   "cell_type": "code",
   "execution_count": null,
   "id": "25cbe243",
   "metadata": {},
   "outputs": [],
   "source": []
  },
  {
   "cell_type": "code",
   "execution_count": null,
   "id": "e8d1062c",
   "metadata": {},
   "outputs": [],
   "source": []
  },
  {
   "cell_type": "code",
   "execution_count": null,
   "id": "b88b9be5",
   "metadata": {},
   "outputs": [],
   "source": []
  },
  {
   "cell_type": "markdown",
   "id": "7ccfbffc",
   "metadata": {},
   "source": [
    "For feature engineering, can derive:\n",
    "- artist age from kaggle file that I found\n",
    "- collaboration (based on second artist, or based on \"featuring\")\n",
    "- if they previously appeared on a top 100 list"
   ]
  },
  {
   "cell_type": "code",
   "execution_count": null,
   "id": "fcce7a6e",
   "metadata": {},
   "outputs": [],
   "source": []
  },
  {
   "cell_type": "code",
   "execution_count": null,
   "id": "b1487bec",
   "metadata": {},
   "outputs": [],
   "source": []
  },
  {
   "cell_type": "markdown",
   "id": "2d0c61bc",
   "metadata": {},
   "source": [
    "#### write to CSV\n",
    "from pathlib import Path  \n",
    "filepath = Path('/Users/gregwelliver/Desktop/springboard_files/Capstone Two - Music/Data/Merged_Data.csv')  \n",
    "filepath.parent.mkdir(parents=True, exist_ok=True)  \n",
    "df3.to_csv(filepath)"
   ]
  },
  {
   "cell_type": "markdown",
   "id": "2d16a6e3",
   "metadata": {},
   "source": [
    "df4 = df4.rename(columns = {'mode':'modality'})"
   ]
  },
  {
   "cell_type": "code",
   "execution_count": null,
   "id": "ada71923",
   "metadata": {},
   "outputs": [],
   "source": []
  },
  {
   "cell_type": "code",
   "execution_count": null,
   "id": "3ae0e29c",
   "metadata": {},
   "outputs": [],
   "source": []
  }
 ],
 "metadata": {
  "kernelspec": {
   "display_name": "Python 3 (ipykernel)",
   "language": "python",
   "name": "python3"
  },
  "language_info": {
   "codemirror_mode": {
    "name": "ipython",
    "version": 3
   },
   "file_extension": ".py",
   "mimetype": "text/x-python",
   "name": "python",
   "nbconvert_exporter": "python",
   "pygments_lexer": "ipython3",
   "version": "3.9.12"
  }
 },
 "nbformat": 4,
 "nbformat_minor": 5
}
