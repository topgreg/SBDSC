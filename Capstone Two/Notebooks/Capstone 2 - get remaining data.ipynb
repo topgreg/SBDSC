{
 "cells": [
  {
   "cell_type": "markdown",
   "id": "9017bfdd",
   "metadata": {},
   "source": [
    "#pip install spotipy"
   ]
  },
  {
   "cell_type": "markdown",
   "id": "d105559d",
   "metadata": {},
   "source": [
    "spotipy documentation\n",
    "https://spotipy.readthedocs.io/en/latest/#installation\n",
    "\n",
    "google sheet with links to top song playlists: https://docs.google.com/spreadsheets/d/10gRoHKIB1RFfxSvb83gzYkV33x5eMMI1RZoXSamFwPI/edit#gid=824975682\n",
    "\n",
    "github with examples of pulling lots of spotify data: https://github.com/ekatnic/SpotifyApiExploration/blob/master/Spotify_Generate_Tracks.ipynb"
   ]
  },
  {
   "cell_type": "code",
   "execution_count": 2,
   "id": "6b17b388",
   "metadata": {},
   "outputs": [],
   "source": [
    "# Let's import the pandas, numpy libraries as pd, and np respectively. \n",
    "import pandas as pd\n",
    "import numpy as np\n",
    "\n",
    "# Load the pyplot collection of functions from matplotlib, as plt \n",
    "from matplotlib import pyplot as plt\n",
    "\n",
    "import spotipy\n",
    "from spotipy.oauth2 import SpotifyClientCredentials\n",
    "#import sys\n",
    "\n",
    "credentials = []\n",
    "f = open('credentials.txt', 'r')\n",
    "for line in f:\n",
    "    #add line to credentials list (remove trailing whitespace characters)\n",
    "    credentials.append(line.rstrip())\n",
    "\n",
    "# create Spotify object with credentials\n",
    "client_credentials_manager = SpotifyClientCredentials(credentials[0], credentials[1])\n",
    "sp = spotipy.Spotify(client_credentials_manager=client_credentials_manager)"
   ]
  },
  {
   "cell_type": "markdown",
   "id": "37dc26b6",
   "metadata": {},
   "source": [
    "#### write to CSV\n",
    "from pathlib import Path  \n",
    "filepath = Path('/Users/gregwelliver/Desktop/springboard_files/Capstone Two - Music/Data/AllCharts 2000-2021.csv')  \n",
    "filepath.parent.mkdir(parents=True, exist_ok=True)  \n",
    "df.to_csv(filepath)"
   ]
  },
  {
   "cell_type": "code",
   "execution_count": 3,
   "id": "0276a06c",
   "metadata": {},
   "outputs": [],
   "source": [
    "# Initializing lists for basic track details\n",
    "artist_name = []\n",
    "artist_id = []\n",
    "album_name = []\n",
    "album_id = []\n",
    "track_name = []\n",
    "track_id = []\n",
    "track_pop = []\n",
    "track_year = []\n",
    "track_spotify_genre = []\n",
    "track_uri = []\n",
    "\n",
    "# Initializing genre\n",
    "artist_genre = []"
   ]
  },
  {
   "cell_type": "code",
   "execution_count": null,
   "id": "0c0e7ade",
   "metadata": {},
   "outputs": [],
   "source": [
    "dataset = pd.read_csv(\"/Users/gregwelliver/Desktop/springboard_files/Capstone Two - Music/Data/AllSongsIDs.csv\", index_col=[0])"
   ]
  },
  {
   "cell_type": "code",
   "execution_count": null,
   "id": "8b3fae0d",
   "metadata": {},
   "outputs": [],
   "source": [
    "dataset.head()"
   ]
  },
  {
   "cell_type": "code",
   "execution_count": null,
   "id": "0b391301",
   "metadata": {
    "scrolled": true
   },
   "outputs": [],
   "source": [
    "track_id_list = list(dataset.track_id)\n",
    "#print(track_id_list[1:132])\n",
    "track_id_list2 = track_id_list[0:151]\n",
    "print(track_id_list2)"
   ]
  },
  {
   "cell_type": "code",
   "execution_count": null,
   "id": "5c1f2081",
   "metadata": {},
   "outputs": [],
   "source": [
    "track_names = [sp.track(identifier)['name'] for identifier in track_id_list2]"
   ]
  },
  {
   "cell_type": "code",
   "execution_count": null,
   "id": "af4d8a30",
   "metadata": {},
   "outputs": [],
   "source": [
    "sp.track(\"spotify:track:2YpeDb67231RjR0MgVLzsG\")['name']"
   ]
  },
  {
   "cell_type": "code",
   "execution_count": null,
   "id": "7d09320f",
   "metadata": {},
   "outputs": [],
   "source": [
    "#track_artist_1 = [sp.track(identifier)['artists'][0]['name'] for identifier in track_id_list2]"
   ]
  },
  {
   "cell_type": "code",
   "execution_count": null,
   "id": "60f3fe3d",
   "metadata": {},
   "outputs": [],
   "source": [
    "#track_artist_2 = [sp.track(identifier)['artists'][1]['name'] for identifier in track_id_list]"
   ]
  },
  {
   "cell_type": "code",
   "execution_count": null,
   "id": "4141c0d0",
   "metadata": {},
   "outputs": [],
   "source": [
    "for track in range(len(track_id_list2)): \n",
    "      query = track\n",
    "      for i in range(0,1000,50):\n",
    "          track_results = sp.search(q=query, type='track', limit=50, offset=i) # change 'q=' argument for year\n",
    "          for item in track_results['tracks']['items']:\n",
    "              artist_name.append(item['album']['artists'][0]['name'])\n",
    "              artist_id.append(item['album']['artists'][0]['id'])\n",
    "              track_name.append(item['name'])\n",
    "              track_id.append(item['id'])\n",
    "              track_pop.append(item['popularity'])\n",
    "              #track_year.append(year)\n",
    "              #track_spotify_genre.append(genre)\n",
    "              #album_name.append(item['album']['name'])\n",
    "              #album_id.append(item['album']['id'])\n",
    "              track_uri.append(item['uri'])\n"
   ]
  },
  {
   "cell_type": "code",
   "execution_count": null,
   "id": "100c01db",
   "metadata": {},
   "outputs": [],
   "source": [
    "#query = \"spotify:track:2YpeDb67231RjR0MgVLzsG\"\n",
    "#for i in range(0,1000,50):\n",
    "query = \"7jVv8c5Fj3E9VhNjxT4snq\"\n",
    "track_results = sp.search(q=query, type='track', limit=50, offset=i) # change 'q=' argument for year\n",
    "for item in track_results['tracks']['items']:\n",
    "  artist_name.append(item['album']['artists'][0]['name'])\n",
    "  artist_id.append(item['album']['artists'][0]['id'])\n",
    "  track_name.append(item['name'])\n",
    "  track_id.append(item['id'])\n",
    "  track_pop.append(item['popularity'])\n",
    "  #track_year.append(year)\n",
    "  #track_spotify_genre.append(genre)\n",
    "  #album_name.append(item['album']['name'])\n",
    "  #album_id.append(item['album']['id'])\n",
    "  track_uri.append(item['uri'])"
   ]
  },
  {
   "cell_type": "code",
   "execution_count": 9,
   "id": "e8ac5541",
   "metadata": {},
   "outputs": [],
   "source": [
    "search_result = sp.search(q='5gH9EDMWWiLEplNCLb1r7l', type='track', limit=50)"
   ]
  },
  {
   "cell_type": "code",
   "execution_count": 10,
   "id": "68e778cf",
   "metadata": {},
   "outputs": [
    {
     "name": "stdout",
     "output_type": "stream",
     "text": [
      "{'tracks': {'href': 'https://api.spotify.com/v1/search?query=5gH9EDMWWiLEplNCLb1r7l&type=track&offset=0&limit=50', 'items': [], 'limit': 50, 'next': None, 'offset': 0, 'previous': None, 'total': 0}}\n"
     ]
    }
   ],
   "source": [
    "print(search_result)"
   ]
  },
  {
   "cell_type": "code",
   "execution_count": null,
   "id": "b8085409",
   "metadata": {},
   "outputs": [],
   "source": [
    "sp.audio_analysis(\"spotify:track:6naxalmIoLFWR0siv8dnQQ\")"
   ]
  },
  {
   "cell_type": "code",
   "execution_count": null,
   "id": "7afcdbc0",
   "metadata": {},
   "outputs": [],
   "source": [
    "print(track_name)"
   ]
  },
  {
   "cell_type": "code",
   "execution_count": null,
   "id": "f0d6caf6",
   "metadata": {},
   "outputs": [],
   "source": [
    "print(track_pop)"
   ]
  },
  {
   "cell_type": "code",
   "execution_count": 8,
   "id": "075fad71",
   "metadata": {},
   "outputs": [
    {
     "data": {
      "text/plain": [
       "1"
      ]
     },
     "execution_count": 8,
     "metadata": {},
     "output_type": "execute_result"
    }
   ],
   "source": [
    "# Get collection of song ids and basic track details - 50 tracks per \n",
    "for genre in [' ']:\n",
    "  for year in range(2020,2021): \n",
    "      query = \"genre:\" + genre + \" year:\" + str(year)\n",
    "      for i in range(0,1000,50):\n",
    "          track_results = sp.search(q=query, type='track', limit=50, offset=i) # change 'q=' argument for year\n",
    "          for item in track_results['tracks']['items']:\n",
    "              artist_name.append(item['album']['artists'][0]['name'])\n",
    "              artist_id.append(item['album']['artists'][0]['id'])\n",
    "              track_name.append(item['name'])\n",
    "              track_id.append(item['id'])\n",
    "              track_pop.append(item['popularity'])\n",
    "              track_year.append(year)\n",
    "              track_spotify_genre.append(genre)\n",
    "              #album_name.append(item['album']['name'])\n",
    "              #album_id.append(item['album']['id'])\n",
    "              track_uri.append(item['uri'])\n",
    "\n",
    "len(artist_name)\n",
    "# len(artist_id)\n",
    "# len(track_name)\n",
    "# len(track_id)\n",
    "# len(track_pop)\n",
    "# len(track_year)\n",
    "# len(track_spotify_genre)\n",
    "# len(track_uri)"
   ]
  },
  {
   "cell_type": "code",
   "execution_count": 4,
   "id": "df893fea",
   "metadata": {},
   "outputs": [
    {
     "ename": "NameError",
     "evalue": "name 'genre' is not defined",
     "output_type": "error",
     "traceback": [
      "\u001b[0;31m---------------------------------------------------------------------------\u001b[0m",
      "\u001b[0;31mNameError\u001b[0m                                 Traceback (most recent call last)",
      "Input \u001b[0;32mIn [4]\u001b[0m, in \u001b[0;36m<cell line: 2>\u001b[0;34m()\u001b[0m\n\u001b[1;32m     11\u001b[0m track_pop\u001b[38;5;241m.\u001b[39mappend(item[\u001b[38;5;124m'\u001b[39m\u001b[38;5;124mpopularity\u001b[39m\u001b[38;5;124m'\u001b[39m])\n\u001b[1;32m     12\u001b[0m track_year\u001b[38;5;241m.\u001b[39mappend(year)\n\u001b[0;32m---> 13\u001b[0m track_spotify_genre\u001b[38;5;241m.\u001b[39mappend(\u001b[43mgenre\u001b[49m)\n\u001b[1;32m     14\u001b[0m \u001b[38;5;66;03m#album_name.append(item['album']['name'])\u001b[39;00m\n\u001b[1;32m     15\u001b[0m \u001b[38;5;66;03m#album_id.append(item['album']['id'])\u001b[39;00m\n\u001b[1;32m     16\u001b[0m track_uri\u001b[38;5;241m.\u001b[39mappend(item[\u001b[38;5;124m'\u001b[39m\u001b[38;5;124muri\u001b[39m\u001b[38;5;124m'\u001b[39m])\n",
      "\u001b[0;31mNameError\u001b[0m: name 'genre' is not defined"
     ]
    }
   ],
   "source": [
    "# Get collection of song ids and basic track details - 50 tracks per \n",
    "for year in range(2020,2021): \n",
    "  query =\" year:\" + str(year)\n",
    "  for i in range(0,1000,50):\n",
    "      track_results = sp.search(q=query, type='track', limit=50, offset=i) # change 'q=' argument for year\n",
    "      for item in track_results['tracks']['items']:\n",
    "          artist_name.append(item['album']['artists'][0]['name'])\n",
    "          artist_id.append(item['album']['artists'][0]['id'])\n",
    "          track_name.append(item['name'])\n",
    "          track_id.append(item['id'])\n",
    "          track_pop.append(item['popularity'])\n",
    "          track_year.append(year)\n",
    "          #track_spotify_genre.append(genre)\n",
    "          #album_name.append(item['album']['name'])\n",
    "          #album_id.append(item['album']['id'])\n",
    "          track_uri.append(item['uri'])\n",
    "\n",
    "len(artist_name)\n",
    "# len(artist_id)\n",
    "# len(track_name)\n",
    "# len(track_id)\n",
    "# len(track_pop)\n",
    "# len(track_year)\n",
    "# len(track_spotify_genre)\n",
    "# len(track_uri)"
   ]
  },
  {
   "cell_type": "code",
   "execution_count": null,
   "id": "b7250a93",
   "metadata": {},
   "outputs": [],
   "source": [
    "AllSongs = pd.read_csv(\"/Users/gregwelliver/Desktop/springboard_files/Capstone Two - Music/Data/AllSongs 2000-2021.csv\", index_col =[0])"
   ]
  },
  {
   "cell_type": "code",
   "execution_count": null,
   "id": "8035ed75",
   "metadata": {
    "scrolled": true
   },
   "outputs": [],
   "source": [
    "AllSongs.head()"
   ]
  },
  {
   "cell_type": "code",
   "execution_count": null,
   "id": "f3511c14",
   "metadata": {},
   "outputs": [],
   "source": [
    "len(AllSongs)"
   ]
  },
  {
   "cell_type": "code",
   "execution_count": null,
   "id": "c2b8c1de",
   "metadata": {},
   "outputs": [],
   "source": [
    "#print(len(artist_name))\n",
    "#print(len(artist_id))\n",
    "#len(track_name)\n",
    "#len(track_id)\n",
    "#len(track_pop)\n",
    "#len(track_year)\n",
    "#len(track_spotify_genre)\n",
    "len(track_uri)"
   ]
  },
  {
   "cell_type": "markdown",
   "id": "cf3569ed",
   "metadata": {},
   "source": [
    "for year in range(2017,2018): \n",
    "      query = \" year:\" + str(year)\n",
    "      for i in range(0,1000,50):\n",
    "          track_results = sp.search(q=query, type='track', limit=50, offset=i) # change 'q=' argument for year\n",
    "          for item in track_results['tracks']['items']:\n",
    "              artist_name.append(item['album']['artists'][0]['name'])\n",
    "              artist_id.append(item['album']['artists'][0]['id'])\n",
    "              track_name.append(item['name'])\n",
    "              track_id.append(item['id'])\n",
    "              track_pop.append(item['popularity'])\n",
    "              track_year.append(year)\n",
    "              track_spotify_genre.append(genre)\n",
    "              #album_name.append(item['album']['name'])\n",
    "              #album_id.append(item['album']['id'])\n",
    "              track_uri.append(item['uri'])\n",
    "len(track_year)\n"
   ]
  },
  {
   "cell_type": "code",
   "execution_count": null,
   "id": "f0eac753",
   "metadata": {},
   "outputs": [],
   "source": [
    "#print(track_id)"
   ]
  },
  {
   "cell_type": "code",
   "execution_count": null,
   "id": "823b3a0c",
   "metadata": {},
   "outputs": [],
   "source": [
    "#dataset = pd.read_csv(\"/Users/gregwelliver/Desktop/springboard_files/Capstone Two - Music/Data/SpotifyFeatures.csv\")"
   ]
  },
  {
   "cell_type": "code",
   "execution_count": null,
   "id": "40f9cb19",
   "metadata": {},
   "outputs": [],
   "source": [
    "#dataset = pd.read_csv(\"/Users/gregwelliver/Desktop/springboard_files/Capstone Two - Music/Data/AllSongs 2000-2021.csv\")"
   ]
  },
  {
   "cell_type": "code",
   "execution_count": null,
   "id": "6e425446",
   "metadata": {},
   "outputs": [],
   "source": [
    "track_ids = dataset.track_id\n",
    "track_ids.head()"
   ]
  },
  {
   "cell_type": "code",
   "execution_count": null,
   "id": "ad43de74",
   "metadata": {},
   "outputs": [],
   "source": [
    "AllTracks = pd.DataFrame({\"track_id\":track_id,\n",
    "                   \"track_name\":track_name,\n",
    "                   \"track_year\":track_year,\n",
    "                   \"track_spotify_genre\":track_spotify_genre,\n",
    "                   \"art_name\":artist_name,\n",
    "                   \"art_id\":artist_id,\n",
    "                   \"track_uri\":track_uri,\n",
    "                   \"track_pop\":track_pop,\n",
    "                   })\n",
    "#track_dict = df.to_dict(orient='records')"
   ]
  },
  {
   "cell_type": "code",
   "execution_count": null,
   "id": "1f058ee7",
   "metadata": {
    "scrolled": true
   },
   "outputs": [],
   "source": [
    "AllTracks.head()"
   ]
  },
  {
   "cell_type": "code",
   "execution_count": null,
   "id": "a647d298",
   "metadata": {},
   "outputs": [],
   "source": [
    "len(AllTracks)"
   ]
  },
  {
   "cell_type": "code",
   "execution_count": null,
   "id": "4597e335",
   "metadata": {},
   "outputs": [],
   "source": [
    "AllTracks.track_id.nunique()"
   ]
  },
  {
   "cell_type": "code",
   "execution_count": null,
   "id": "e12dd6dc",
   "metadata": {},
   "outputs": [],
   "source": [
    "#11958"
   ]
  },
  {
   "cell_type": "code",
   "execution_count": null,
   "id": "9273a080",
   "metadata": {
    "scrolled": true
   },
   "outputs": [],
   "source": [
    "NewDF = AllSongs.append(AllTracks)"
   ]
  },
  {
   "cell_type": "code",
   "execution_count": null,
   "id": "16df4cca",
   "metadata": {},
   "outputs": [],
   "source": [
    "len(NewDF)"
   ]
  },
  {
   "cell_type": "markdown",
   "id": "15713473",
   "metadata": {},
   "source": [
    "#### write to CSV\n",
    "from pathlib import Path  \n",
    "filepath = Path('/Users/gregwelliver/Desktop/springboard_files/Capstone Two - Music/Data/AllSongs 2000-2021.csv')  \n",
    "filepath.parent.mkdir(parents=True, exist_ok=True)  \n",
    "AllTracks.to_csv(filepath)"
   ]
  },
  {
   "cell_type": "code",
   "execution_count": null,
   "id": "3ce33436",
   "metadata": {},
   "outputs": [],
   "source": [
    "AllTracksURIs = dataset.track_uri"
   ]
  },
  {
   "cell_type": "code",
   "execution_count": null,
   "id": "71e28276",
   "metadata": {},
   "outputs": [],
   "source": [
    "#print(AllTracksURIs)"
   ]
  },
  {
   "cell_type": "code",
   "execution_count": null,
   "id": "401984b7",
   "metadata": {},
   "outputs": [],
   "source": [
    "AudioFeatures2 = [sp.audio_features(identifier)[0] for identifier in AllTracksURIs]"
   ]
  },
  {
   "cell_type": "code",
   "execution_count": null,
   "id": "0677f3e5",
   "metadata": {},
   "outputs": [],
   "source": [
    "AudioFeatures2[1:10]"
   ]
  },
  {
   "cell_type": "code",
   "execution_count": null,
   "id": "3c5b0780",
   "metadata": {},
   "outputs": [],
   "source": [
    "# this gets all audio features for the given track ids\n",
    "for i in range(0,len(track_ids),50):\n",
    "  track_features = sp.audio_features(track_ids[i:i+50]) # returns features of first 50 tracks\n",
    "  for j in range(0,len(track_features)): # iterate over those 50 tracks\n",
    "    if track_features[j] is None:  # if track does not have audio features from spotify\n",
    "      track_features[j] = {}\n",
    "    key.append(track_features[j].get('key', np.nan))\n",
    "    acousticness.append(track_features[j].get('acousticness', np.nan))\n",
    "    danceability.append(track_features[j].get('danceability', np.nan))\n",
    "    duration_ms.append(track_features[j].get('duration_ms', np.nan))\n",
    "    energy.append(track_features[j].get('energy', np.nan))\n",
    "    instrumentalness.append(track_features[j].get('instrumentalness', np.nan))\n",
    "    liveness.append(track_features[j].get('liveness', np.nan))\n",
    "    loudness.append(track_features[j].get('loudness', np.nan))\n",
    "    mode.append(track_features[j].get('mode', np.nan))\n",
    "    speechiness.append(track_features[j].get('speechiness', np.nan))\n",
    "    tempo.append(track_features[j].get('tempo', np.nan))\n",
    "    time_signature.append(track_features[j].get('time_signature', np.nan))\n",
    "    valence.append(track_features[j].get('valence', np.nan))"
   ]
  },
  {
   "cell_type": "code",
   "execution_count": null,
   "id": "364a5a37",
   "metadata": {},
   "outputs": [],
   "source": []
  },
  {
   "cell_type": "code",
   "execution_count": null,
   "id": "60db5bdd",
   "metadata": {},
   "outputs": [],
   "source": [
    "AllTracksAudio = pd.DataFrame({\"track_id\":track_ids,\n",
    "                   \"key\":key,\n",
    "                    \"acousticness\":acousticness,\n",
    "                    \"danceability\":danceability,\n",
    "                    \"duration_ms\":duration_ms,\n",
    "                    \"energy\":energy,\n",
    "                    \"instrumentalness\":instrumentalness,\n",
    "                    \"liveness\":liveness,\n",
    "                    \"loudness\":loudness,\n",
    "                    \"mode\":mode,\n",
    "                    \"speechiness\":speechiness,\n",
    "                    \"tempo\":tempo,\n",
    "                    \"time_signature\":time_signature,\n",
    "                    \"valence\":valence,\n",
    "                    })"
   ]
  },
  {
   "cell_type": "code",
   "execution_count": null,
   "id": "a87008ef",
   "metadata": {
    "scrolled": true
   },
   "outputs": [],
   "source": [
    "AllTracksAudio.info()"
   ]
  },
  {
   "cell_type": "code",
   "execution_count": null,
   "id": "99ba756a",
   "metadata": {},
   "outputs": [],
   "source": [
    "from pathlib import Path  \n",
    "filepath = Path('/Users/gregwelliver/Desktop/springboard_files/Capstone Two - Music/Data/AllSongs 2000-2021.csv')  \n",
    "filepath.parent.mkdir(parents=True, exist_ok=True)  \n",
    "NewDF.to_csv(filepath)"
   ]
  },
  {
   "cell_type": "code",
   "execution_count": null,
   "id": "78d3df6f",
   "metadata": {},
   "outputs": [],
   "source": [
    "len(track_year)\n",
    "\"track_year\":track_year,\n",
    "                   \"track_spotify_genre\":track_spotify_genre,\n",
    "                   \"art_name\":artist_name,\n",
    "                   \"art_id\":artist_id,\n",
    "                   \"track_uri\":track_uri,\n",
    "                   \"track_pop\":track_pop,"
   ]
  }
 ],
 "metadata": {
  "kernelspec": {
   "display_name": "Python 3 (ipykernel)",
   "language": "python",
   "name": "python3"
  },
  "language_info": {
   "codemirror_mode": {
    "name": "ipython",
    "version": 3
   },
   "file_extension": ".py",
   "mimetype": "text/x-python",
   "name": "python",
   "nbconvert_exporter": "python",
   "pygments_lexer": "ipython3",
   "version": "3.9.12"
  }
 },
 "nbformat": 4,
 "nbformat_minor": 5
}
