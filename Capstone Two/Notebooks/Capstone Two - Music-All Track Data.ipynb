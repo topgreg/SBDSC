{
 "cells": [
  {
   "cell_type": "markdown",
   "id": "9017bfdd",
   "metadata": {},
   "source": [
    "#pip install spotipy"
   ]
  },
  {
   "cell_type": "markdown",
   "id": "d105559d",
   "metadata": {},
   "source": [
    "spotipy documentation\n",
    "https://spotipy.readthedocs.io/en/latest/#installation\n",
    "\n",
    "google sheet with links to top song playlists: https://docs.google.com/spreadsheets/d/10gRoHKIB1RFfxSvb83gzYkV33x5eMMI1RZoXSamFwPI/edit#gid=824975682"
   ]
  },
  {
   "cell_type": "code",
   "execution_count": null,
   "id": "6b17b388",
   "metadata": {},
   "outputs": [],
   "source": [
    "# Let's import the pandas, numpy libraries as pd, and np respectively. \n",
    "import pandas as pd\n",
    "import numpy as np\n",
    "\n",
    "# Load the pyplot collection of functions from matplotlib, as plt \n",
    "from matplotlib import pyplot as plt\n",
    "\n",
    "import spotipy\n",
    "from spotipy.oauth2 import SpotifyClientCredentials\n",
    "#import sys\n",
    "\n",
    "credentials = []\n",
    "f = open('credentials.txt', 'r')\n",
    "for line in f:\n",
    "    #add line to credentials list (remove trailing whitespace characters)\n",
    "    credentials.append(line.rstrip())\n",
    "\n",
    "# create Spotify object with credentials\n",
    "client_credentials_manager = SpotifyClientCredentials(credentials[0], credentials[1])\n",
    "sp = spotipy.Spotify(client_credentials_manager=client_credentials_manager)"
   ]
  },
  {
   "cell_type": "code",
   "execution_count": null,
   "id": "a3c0b936",
   "metadata": {},
   "outputs": [],
   "source": [
    "#charts = pd.read_csv(\"/Users/gregwelliver/Desktop/springboard_files/Capstone Two - Music/Data/charts.csv\")"
   ]
  },
  {
   "cell_type": "code",
   "execution_count": null,
   "id": "58036c20",
   "metadata": {},
   "outputs": [],
   "source": [
    "#charts.head()"
   ]
  },
  {
   "cell_type": "code",
   "execution_count": null,
   "id": "999f7303",
   "metadata": {},
   "outputs": [],
   "source": [
    "# timeit library to measure the time needed to run this code\n",
    "#import timeit\n",
    "#start = timeit.default_timer()\n",
    "\n",
    "# create empty lists where the results are going to be stored\n",
    "artist_name = []\n",
    "track_name = []\n",
    "popularity = []\n",
    "track_id = []\n",
    "track_uri = []\n",
    "\n",
    "for i in range(0,1000,50):\n",
    "    track_results = sp.search(q='year:1999', type='track', limit=50,offset=i)\n",
    "    for i, t in enumerate(track_results['tracks']['items']):\n",
    "        artist_name.append(t['artists'][0]['name'])\n",
    "        track_name.append(t['name'])\n",
    "        track_id.append(t['id'])\n",
    "        track_uri.append(t['uri'])\n",
    "        popularity.append(t['popularity'])\n",
    "      \n",
    "\n",
    "#stop = timeit.default_timer()\n",
    "#print ('Time to run this code (in seconds):', stop - start)"
   ]
  },
  {
   "cell_type": "code",
   "execution_count": null,
   "id": "d1f6ce0e",
   "metadata": {},
   "outputs": [],
   "source": [
    "sp.search(q='The Real Slim Shady', type='track', limit=50,offset=i)"
   ]
  },
  {
   "cell_type": "code",
   "execution_count": null,
   "id": "39a3dd4b",
   "metadata": {},
   "outputs": [],
   "source": [
    "len(track_id)"
   ]
  },
  {
   "cell_type": "code",
   "execution_count": null,
   "id": "a32545f7",
   "metadata": {
    "scrolled": false
   },
   "outputs": [],
   "source": [
    "#sp.search(q='year:2018', type='track', limit=50,offset=i)"
   ]
  },
  {
   "cell_type": "code",
   "execution_count": null,
   "id": "67265094",
   "metadata": {},
   "outputs": [],
   "source": [
    "len(track_id)"
   ]
  },
  {
   "cell_type": "markdown",
   "id": "37dc26b6",
   "metadata": {},
   "source": [
    "#### write to CSV\n",
    "from pathlib import Path  \n",
    "filepath = Path('/Users/gregwelliver/Desktop/springboard_files/Capstone Two - Music/Data/AllCharts 2000-2021.csv')  \n",
    "filepath.parent.mkdir(parents=True, exist_ok=True)  \n",
    "df.to_csv(filepath)"
   ]
  },
  {
   "cell_type": "code",
   "execution_count": null,
   "id": "9399fee0",
   "metadata": {},
   "outputs": [],
   "source": [
    "final_list1 = [tophitsyear(url) for url in allLinks]"
   ]
  }
 ],
 "metadata": {
  "kernelspec": {
   "display_name": "Python 3 (ipykernel)",
   "language": "python",
   "name": "python3"
  },
  "language_info": {
   "codemirror_mode": {
    "name": "ipython",
    "version": 3
   },
   "file_extension": ".py",
   "mimetype": "text/x-python",
   "name": "python",
   "nbconvert_exporter": "python",
   "pygments_lexer": "ipython3",
   "version": "3.9.12"
  }
 },
 "nbformat": 4,
 "nbformat_minor": 5
}
