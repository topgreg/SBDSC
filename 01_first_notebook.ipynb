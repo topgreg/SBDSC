{
 "cells": [
  {
   "cell_type": "markdown",
   "id": "5a15a320",
   "metadata": {},
   "source": [
    "# \"Introduction\"\n",
    "\n",
    "“This is my *first* Jupyter notebook”"
   ]
  },
  {
   "cell_type": "code",
   "execution_count": 1,
   "id": "8eff3d63",
   "metadata": {},
   "outputs": [],
   "source": [
    "x = 5\n",
    "y = 6\n",
    "z = x + y"
   ]
  },
  {
   "cell_type": "code",
   "execution_count": 3,
   "id": "a24954cc",
   "metadata": {},
   "outputs": [
    {
     "name": "stdout",
     "output_type": "stream",
     "text": [
      "11\n"
     ]
    }
   ],
   "source": [
    "print(z)"
   ]
  }
 ],
 "metadata": {
  "kernelspec": {
   "display_name": "Python 3 (ipykernel)",
   "language": "python",
   "name": "python3"
  },
  "language_info": {
   "codemirror_mode": {
    "name": "ipython",
    "version": 3
   },
   "file_extension": ".py",
   "mimetype": "text/x-python",
   "name": "python",
   "nbconvert_exporter": "python",
   "pygments_lexer": "ipython3",
   "version": "3.9.12"
  }
 },
 "nbformat": 4,
 "nbformat_minor": 5
}
